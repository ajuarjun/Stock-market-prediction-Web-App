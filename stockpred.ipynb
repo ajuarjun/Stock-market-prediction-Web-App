{
  "nbformat": 4,
  "nbformat_minor": 0,
  "metadata": {
    "colab": {
      "name": "stockpred.ipynb",
      "provenance": [],
      "collapsed_sections": []
    },
    "kernelspec": {
      "name": "python3",
      "display_name": "Python 3"
    },
    "language_info": {
      "name": "python"
    }
  },
  "cells": [
    {
      "cell_type": "markdown",
      "metadata": {
        "id": "FdCbJin21Rjb"
      },
      "source": [
        "#Stock prediction using Artificial Neural Networks"
      ]
    },
    {
      "cell_type": "markdown",
      "metadata": {
        "id": "Ac7YiXHt1kC8"
      },
      "source": [
        "The IBM stock dataset is the historical data from the finance column of Yahoo website.\n",
        "\n",
        "Link: https://in.finance.yahoo.com/quote/IBM/history?p=IBM "
      ]
    },
    {
      "cell_type": "markdown",
      "metadata": {
        "id": "UQSYk93v2syF"
      },
      "source": [
        "##Importing libraries and dataset"
      ]
    },
    {
      "cell_type": "code",
      "metadata": {
        "id": "aHpslbqo1N8a"
      },
      "source": [
        "import pandas as pd\n",
        "import numpy as np\n",
        "import matplotlib.pyplot as plt"
      ],
      "execution_count": 1,
      "outputs": []
    },
    {
      "cell_type": "code",
      "metadata": {
        "id": "DuPrlAsS3gUk"
      },
      "source": [
        "from sklearn.preprocessing import MinMaxScaler\n",
        "from sklearn.metrics import mean_squared_error, mean_absolute_error"
      ],
      "execution_count": 2,
      "outputs": []
    },
    {
      "cell_type": "code",
      "metadata": {
        "id": "DNmLrw8723jq"
      },
      "source": [
        "import keras\n",
        "from keras.models import Sequential\n",
        "from keras.layers import Dense\n",
        "from keras.layers import LSTM"
      ],
      "execution_count": 3,
      "outputs": []
    },
    {
      "cell_type": "code",
      "metadata": {
        "id": "2iZ8J5Bv23eJ"
      },
      "source": [
        "dataset = pd.read_csv(\"IBM.csv\")"
      ],
      "execution_count": 4,
      "outputs": []
    },
    {
      "cell_type": "code",
      "metadata": {
        "colab": {
          "base_uri": "https://localhost:8080/",
          "height": 195
        },
        "id": "9IE6XO-K23Y3",
        "outputId": "5b89bcfc-c7df-412a-d219-3f2490bb683a"
      },
      "source": [
        "dataset.head()"
      ],
      "execution_count": 5,
      "outputs": [
        {
          "output_type": "execute_result",
          "data": {
            "text/html": [
              "<div>\n",
              "<style scoped>\n",
              "    .dataframe tbody tr th:only-of-type {\n",
              "        vertical-align: middle;\n",
              "    }\n",
              "\n",
              "    .dataframe tbody tr th {\n",
              "        vertical-align: top;\n",
              "    }\n",
              "\n",
              "    .dataframe thead th {\n",
              "        text-align: right;\n",
              "    }\n",
              "</style>\n",
              "<table border=\"1\" class=\"dataframe\">\n",
              "  <thead>\n",
              "    <tr style=\"text-align: right;\">\n",
              "      <th></th>\n",
              "      <th>Date</th>\n",
              "      <th>Open</th>\n",
              "      <th>High</th>\n",
              "      <th>Low</th>\n",
              "      <th>Close</th>\n",
              "      <th>Adj Close</th>\n",
              "      <th>Volume</th>\n",
              "    </tr>\n",
              "  </thead>\n",
              "  <tbody>\n",
              "    <tr>\n",
              "      <th>0</th>\n",
              "      <td>2001-06-18</td>\n",
              "      <td>113.980003</td>\n",
              "      <td>115.440002</td>\n",
              "      <td>113.309998</td>\n",
              "      <td>114.269997</td>\n",
              "      <td>71.508987</td>\n",
              "      <td>5182800</td>\n",
              "    </tr>\n",
              "    <tr>\n",
              "      <th>1</th>\n",
              "      <td>2001-06-19</td>\n",
              "      <td>116.260002</td>\n",
              "      <td>117.250000</td>\n",
              "      <td>114.559998</td>\n",
              "      <td>114.839996</td>\n",
              "      <td>71.865692</td>\n",
              "      <td>6152800</td>\n",
              "    </tr>\n",
              "    <tr>\n",
              "      <th>2</th>\n",
              "      <td>2001-06-20</td>\n",
              "      <td>113.500000</td>\n",
              "      <td>114.989998</td>\n",
              "      <td>111.760002</td>\n",
              "      <td>113.089996</td>\n",
              "      <td>70.770576</td>\n",
              "      <td>8828300</td>\n",
              "    </tr>\n",
              "    <tr>\n",
              "      <th>3</th>\n",
              "      <td>2001-06-21</td>\n",
              "      <td>112.150002</td>\n",
              "      <td>114.699997</td>\n",
              "      <td>111.360001</td>\n",
              "      <td>112.599998</td>\n",
              "      <td>70.463913</td>\n",
              "      <td>8155800</td>\n",
              "    </tr>\n",
              "    <tr>\n",
              "      <th>4</th>\n",
              "      <td>2001-06-22</td>\n",
              "      <td>112.599998</td>\n",
              "      <td>114.430000</td>\n",
              "      <td>112.500000</td>\n",
              "      <td>112.870003</td>\n",
              "      <td>70.632889</td>\n",
              "      <td>5607200</td>\n",
              "    </tr>\n",
              "  </tbody>\n",
              "</table>\n",
              "</div>"
            ],
            "text/plain": [
              "         Date        Open        High  ...       Close  Adj Close   Volume\n",
              "0  2001-06-18  113.980003  115.440002  ...  114.269997  71.508987  5182800\n",
              "1  2001-06-19  116.260002  117.250000  ...  114.839996  71.865692  6152800\n",
              "2  2001-06-20  113.500000  114.989998  ...  113.089996  70.770576  8828300\n",
              "3  2001-06-21  112.150002  114.699997  ...  112.599998  70.463913  8155800\n",
              "4  2001-06-22  112.599998  114.430000  ...  112.870003  70.632889  5607200\n",
              "\n",
              "[5 rows x 7 columns]"
            ]
          },
          "metadata": {
            "tags": []
          },
          "execution_count": 5
        }
      ]
    },
    {
      "cell_type": "markdown",
      "metadata": {
        "id": "PSBOYPic34aW"
      },
      "source": [
        "##Visualising dataset"
      ]
    },
    {
      "cell_type": "code",
      "metadata": {
        "colab": {
          "base_uri": "https://localhost:8080/"
        },
        "id": "JJwIzTpJDJvo",
        "outputId": "50e48fec-56e4-4402-f8d6-b4833f7792ca"
      },
      "source": [
        "dataset.shape"
      ],
      "execution_count": 6,
      "outputs": [
        {
          "output_type": "execute_result",
          "data": {
            "text/plain": [
              "(5030, 7)"
            ]
          },
          "metadata": {
            "tags": []
          },
          "execution_count": 6
        }
      ]
    },
    {
      "cell_type": "code",
      "metadata": {
        "colab": {
          "base_uri": "https://localhost:8080/"
        },
        "id": "oYF3QK8z23LP",
        "outputId": "55dae597-3959-4b9f-86df-9c87f5843347"
      },
      "source": [
        "dataset.info()"
      ],
      "execution_count": 7,
      "outputs": [
        {
          "output_type": "stream",
          "text": [
            "<class 'pandas.core.frame.DataFrame'>\n",
            "RangeIndex: 5030 entries, 0 to 5029\n",
            "Data columns (total 7 columns):\n",
            " #   Column     Non-Null Count  Dtype  \n",
            "---  ------     --------------  -----  \n",
            " 0   Date       5030 non-null   object \n",
            " 1   Open       5030 non-null   float64\n",
            " 2   High       5030 non-null   float64\n",
            " 3   Low        5030 non-null   float64\n",
            " 4   Close      5030 non-null   float64\n",
            " 5   Adj Close  5030 non-null   float64\n",
            " 6   Volume     5030 non-null   int64  \n",
            "dtypes: float64(5), int64(1), object(1)\n",
            "memory usage: 275.2+ KB\n"
          ],
          "name": "stdout"
        }
      ]
    },
    {
      "cell_type": "code",
      "metadata": {
        "colab": {
          "base_uri": "https://localhost:8080/"
        },
        "id": "wfoArrbc4To4",
        "outputId": "4a7f84dc-6403-4276-cb9c-80a4984f80cd"
      },
      "source": [
        "dataset.isna().sum()"
      ],
      "execution_count": 8,
      "outputs": [
        {
          "output_type": "execute_result",
          "data": {
            "text/plain": [
              "Date         0\n",
              "Open         0\n",
              "High         0\n",
              "Low          0\n",
              "Close        0\n",
              "Adj Close    0\n",
              "Volume       0\n",
              "dtype: int64"
            ]
          },
          "metadata": {
            "tags": []
          },
          "execution_count": 8
        }
      ]
    },
    {
      "cell_type": "code",
      "metadata": {
        "colab": {
          "base_uri": "https://localhost:8080/",
          "height": 621
        },
        "id": "9QlQx8Mp4TjN",
        "outputId": "d8d569ed-607e-4d9d-9e8b-40c3a04cb033"
      },
      "source": [
        "dataset.hist(bins=20,figsize=(15,10));"
      ],
      "execution_count": 9,
      "outputs": [
        {
          "output_type": "display_data",
          "data": {
            "image/png": "[encoded data removed]",
            "text/plain": [
              "<Figure size 1080x720 with 6 Axes>"
            ]
          },
          "metadata": {
            "tags": [],
            "needs_background": "light"
          }
        }
      ]
    },
    {
      "cell_type": "markdown",
      "metadata": {
        "id": "NDQ28B6E6wj3"
      },
      "source": [
        "##Splitting test and training data"
      ]
    },
    {
      "cell_type": "code",
      "metadata": {
        "id": "gQoPTepW6wKC"
      },
      "source": [
        "training_data = dataset[0:3500]\n",
        "test_data = dataset[3500:]"
      ],
      "execution_count": 10,
      "outputs": []
    },
    {
      "cell_type": "markdown",
      "metadata": {
        "id": "-OLgEi2-5ceJ"
      },
      "source": [
        "##Preprocessing"
      ]
    },
    {
      "cell_type": "code",
      "metadata": {
        "colab": {
          "base_uri": "https://localhost:8080/",
          "height": 195
        },
        "id": "pXjkmvmO4TTs",
        "outputId": "9ff233d8-a8d4-4649-de63-9b5f78a37b9b"
      },
      "source": [
        "training_data.head()"
      ],
      "execution_count": 11,
      "outputs": [
        {
          "output_type": "execute_result",
          "data": {
            "text/html": [
              "<div>\n",
              "<style scoped>\n",
              "    .dataframe tbody tr th:only-of-type {\n",
              "        vertical-align: middle;\n",
              "    }\n",
              "\n",
              "    .dataframe tbody tr th {\n",
              "        vertical-align: top;\n",
              "    }\n",
              "\n",
              "    .dataframe thead th {\n",
              "        text-align: right;\n",
              "    }\n",
              "</style>\n",
              "<table border=\"1\" class=\"dataframe\">\n",
              "  <thead>\n",
              "    <tr style=\"text-align: right;\">\n",
              "      <th></th>\n",
              "      <th>Date</th>\n",
              "      <th>Open</th>\n",
              "      <th>High</th>\n",
              "      <th>Low</th>\n",
              "      <th>Close</th>\n",
              "      <th>Adj Close</th>\n",
              "      <th>Volume</th>\n",
              "    </tr>\n",
              "  </thead>\n",
              "  <tbody>\n",
              "    <tr>\n",
              "      <th>0</th>\n",
              "      <td>2001-06-18</td>\n",
              "      <td>113.980003</td>\n",
              "      <td>115.440002</td>\n",
              "      <td>113.309998</td>\n",
              "      <td>114.269997</td>\n",
              "      <td>71.508987</td>\n",
              "      <td>5182800</td>\n",
              "    </tr>\n",
              "    <tr>\n",
              "      <th>1</th>\n",
              "      <td>2001-06-19</td>\n",
              "      <td>116.260002</td>\n",
              "      <td>117.250000</td>\n",
              "      <td>114.559998</td>\n",
              "      <td>114.839996</td>\n",
              "      <td>71.865692</td>\n",
              "      <td>6152800</td>\n",
              "    </tr>\n",
              "    <tr>\n",
              "      <th>2</th>\n",
              "      <td>2001-06-20</td>\n",
              "      <td>113.500000</td>\n",
              "      <td>114.989998</td>\n",
              "      <td>111.760002</td>\n",
              "      <td>113.089996</td>\n",
              "      <td>70.770576</td>\n",
              "      <td>8828300</td>\n",
              "    </tr>\n",
              "    <tr>\n",
              "      <th>3</th>\n",
              "      <td>2001-06-21</td>\n",
              "      <td>112.150002</td>\n",
              "      <td>114.699997</td>\n",
              "      <td>111.360001</td>\n",
              "      <td>112.599998</td>\n",
              "      <td>70.463913</td>\n",
              "      <td>8155800</td>\n",
              "    </tr>\n",
              "    <tr>\n",
              "      <th>4</th>\n",
              "      <td>2001-06-22</td>\n",
              "      <td>112.599998</td>\n",
              "      <td>114.430000</td>\n",
              "      <td>112.500000</td>\n",
              "      <td>112.870003</td>\n",
              "      <td>70.632889</td>\n",
              "      <td>5607200</td>\n",
              "    </tr>\n",
              "  </tbody>\n",
              "</table>\n",
              "</div>"
            ],
            "text/plain": [
              "         Date        Open        High  ...       Close  Adj Close   Volume\n",
              "0  2001-06-18  113.980003  115.440002  ...  114.269997  71.508987  5182800\n",
              "1  2001-06-19  116.260002  117.250000  ...  114.839996  71.865692  6152800\n",
              "2  2001-06-20  113.500000  114.989998  ...  113.089996  70.770576  8828300\n",
              "3  2001-06-21  112.150002  114.699997  ...  112.599998  70.463913  8155800\n",
              "4  2001-06-22  112.599998  114.430000  ...  112.870003  70.632889  5607200\n",
              "\n",
              "[5 rows x 7 columns]"
            ]
          },
          "metadata": {
            "tags": []
          },
          "execution_count": 11
        }
      ]
    },
    {
      "cell_type": "code",
      "metadata": {
        "id": "jkh9wSYwzD6O"
      },
      "source": [
        "otrain=training_data.iloc[:,1:2]"
      ],
      "execution_count": 12,
      "outputs": []
    },
    {
      "cell_type": "code",
      "metadata": {
        "id": "6YmK61kMCwrT"
      },
      "source": [
        "htrain=training_data.iloc[:,2:3]"
      ],
      "execution_count": 13,
      "outputs": []
    },
    {
      "cell_type": "code",
      "metadata": {
        "id": "3W71r-aZCwmV"
      },
      "source": [
        "ltrain=training_data.iloc[:,3:4]"
      ],
      "execution_count": 14,
      "outputs": []
    },
    {
      "cell_type": "code",
      "metadata": {
        "id": "bJpcVNjFCwFt"
      },
      "source": [
        "ctrain=training_data.iloc[:,4:5]"
      ],
      "execution_count": 15,
      "outputs": []
    },
    {
      "cell_type": "code",
      "metadata": {
        "id": "EAy_GSyMohc6"
      },
      "source": [
        "mm = MinMaxScaler(feature_range=(0,1))\n",
        "otrain=mm.fit_transform(otrain)\n",
        "htrain=mm.fit_transform(htrain)\n",
        "ltrain=mm.fit_transform(ltrain)\n",
        "ctrain=mm.fit_transform(ctrain)"
      ],
      "execution_count": 16,
      "outputs": []
    },
    {
      "cell_type": "code",
      "metadata": {
        "colab": {
          "base_uri": "https://localhost:8080/"
        },
        "id": "AqtPFVImohXJ",
        "outputId": "239218c7-9537-431b-f049-1db4ec5c2d0b"
      },
      "source": [
        "htrain.shape"
      ],
      "execution_count": 17,
      "outputs": [
        {
          "output_type": "execute_result",
          "data": {
            "text/plain": [
              "(3500, 1)"
            ]
          },
          "metadata": {
            "tags": []
          },
          "execution_count": 17
        }
      ]
    },
    {
      "cell_type": "code",
      "metadata": {
        "id": "iref3z6WohQ3"
      },
      "source": [
        "xh_train=htrain[0:3499]\n",
        "yh_train=htrain[1:3500]"
      ],
      "execution_count": 20,
      "outputs": []
    },
    {
      "cell_type": "code",
      "metadata": {
        "colab": {
          "base_uri": "https://localhost:8080/"
        },
        "id": "jpguicb6qsjT",
        "outputId": "e91ab622-e79a-4988-829f-03b9f9c940ce"
      },
      "source": [
        "xh_train.shape"
      ],
      "execution_count": 21,
      "outputs": [
        {
          "output_type": "execute_result",
          "data": {
            "text/plain": [
              "(3499, 1)"
            ]
          },
          "metadata": {
            "tags": []
          },
          "execution_count": 21
        }
      ]
    },
    {
      "cell_type": "code",
      "metadata": {
        "id": "bhLIdJofq-5D"
      },
      "source": [
        "xh_train=np.reshape(xh_train,(3499,1,1))"
      ],
      "execution_count": 22,
      "outputs": []
    },
    {
      "cell_type": "code",
      "metadata": {
        "id": "zcB12PE8ohIX"
      },
      "source": [
        "xl_train=np.reshape(ltrain[0:3499],(3499,1,1))\n",
        "yl_train=ltrain[1:4500]"
      ],
      "execution_count": 23,
      "outputs": []
    },
    {
      "cell_type": "code",
      "metadata": {
        "id": "xYWhFvQ5og_X"
      },
      "source": [
        "xc_train=np.reshape(ctrain[0:3499],(3499,1,1))\n",
        "yc_train=ctrain[1:3500]"
      ],
      "execution_count": 24,
      "outputs": []
    },
    {
      "cell_type": "code",
      "metadata": {
        "id": "Qbum3MMrSGaO"
      },
      "source": [
        "#putting it all together\n",
        "def preprocess(dataset):\n",
        "  odata=dataset.iloc[:,1:2]      #extracting open attribute\n",
        "  hdata=dataset.iloc[:,2:3]      #extracting high attribute\n",
        "  ldata=dataset.iloc[:,3:4]      #extracting low attribute\n",
        "  cdata=dataset.iloc[:,4:5]      #extracting close attribute\n",
        "\n",
        "  mm = MinMaxScaler(feature_range=(0,1))\n",
        "  odata=mm.fit_transform(odata)\n",
        "  hdata=mm.fit_transform(hdata)             #adjusting the range to [0,1]\n",
        "  ldata=mm.fit_transform(ldata)\n",
        "  cdata=mm.fit_transform(cdata)\n",
        "\n",
        "  n = hdata.shape[0]\n",
        "\n",
        "  xo_data=np.reshape(odata[0:n-1],(n-1,1,1))\n",
        "  yo_data=odata[1:n]\n",
        "\n",
        "  xh_data=np.reshape(hdata[0:n-1],(n-1,1,1))\n",
        "  yh_data=hdata[1:n]\n",
        "\n",
        "  xl_data=np.reshape(ldata[0:n-1],(n-1,1,1))\n",
        "  yl_data=ldata[1:n]\n",
        "\n",
        "  xc_data=np.reshape(cdata[0:n-1],(n-1,1,1))\n",
        "  yc_data=cdata[1:n]\n",
        "\n",
        "  return xo_data,yo_data,xh_data,yh_data,xl_data,yl_data,xc_data,yc_data"
      ],
      "execution_count": 25,
      "outputs": []
    },
    {
      "cell_type": "code",
      "metadata": {
        "id": "PzbgVDkDPZ00"
      },
      "source": [
        "xo_train,yo_train,xh_train,yh_train,xl_train,yl_train,xc_train,yc_train = preprocess(training_data)"
      ],
      "execution_count": 26,
      "outputs": []
    },
    {
      "cell_type": "markdown",
      "metadata": {
        "id": "cB363V5RrXlt"
      },
      "source": [
        "##Model"
      ]
    },
    {
      "cell_type": "markdown",
      "metadata": {
        "id": "AcT4h_MVrnCf"
      },
      "source": [
        "###High feature"
      ]
    },
    {
      "cell_type": "code",
      "metadata": {
        "colab": {
          "base_uri": "https://localhost:8080/"
        },
        "id": "F45jOX0aqWFh",
        "outputId": "62b7f825-cee3-405e-aeab-d02583ff6f32"
      },
      "source": [
        "hmodel = Sequential()\n",
        "\n",
        "hmodel.add(LSTM(units = 4, activation = 'sigmoid', input_shape = (None, 1)))\n",
        "hmodel.add(Dense(units = 1))\n",
        "hmodel.compile(optimizer = 'adam', loss = 'mean_squared_error')\n",
        "\n",
        "\n",
        "hmodel.fit(xh_train, yh_train, batch_size = 32, epochs = 200)"
      ],
      "execution_count": 27,
      "outputs": [
        {
          "output_type": "stream",
          "text": [
            "Epoch 1/200\n",
            "110/110 [==============================] - 22s 2ms/step - loss: 0.4083\n",
            "Epoch 2/200\n",
            "110/110 [==============================] - 0s 2ms/step - loss: 0.1975\n",
            "Epoch 3/200\n",
            "110/110 [==============================] - 0s 2ms/step - loss: 0.1091\n",
            "Epoch 4/200\n",
            "110/110 [==============================] - 0s 2ms/step - loss: 0.0804\n",
            "Epoch 5/200\n",
            "110/110 [==============================] - 0s 2ms/step - loss: 0.0737\n",
            "Epoch 6/200\n",
            "110/110 [==============================] - 0s 2ms/step - loss: 0.0706\n",
            "Epoch 7/200\n",
            "110/110 [==============================] - 0s 1ms/step - loss: 0.0677\n",
            "Epoch 8/200\n",
            "110/110 [==============================] - 0s 2ms/step - loss: 0.0663\n",
            "Epoch 9/200\n",
            "110/110 [==============================] - 0s 2ms/step - loss: 0.0628\n",
            "Epoch 10/200\n",
            "110/110 [==============================] - 0s 2ms/step - loss: 0.0599\n",
            "Epoch 11/200\n",
            "110/110 [==============================] - 0s 2ms/step - loss: 0.0587\n",
            "Epoch 12/200\n",
            "110/110 [==============================] - 0s 2ms/step - loss: 0.0562\n",
            "Epoch 13/200\n",
            "110/110 [==============================] - 0s 2ms/step - loss: 0.0528\n",
            "Epoch 14/200\n",
            "110/110 [==============================] - 0s 2ms/step - loss: 0.0508\n",
            "Epoch 15/200\n",
            "110/110 [==============================] - 0s 2ms/step - loss: 0.0467\n",
            "Epoch 16/200\n",
            "110/110 [==============================] - 0s 2ms/step - loss: 0.0435\n",
            "Epoch 17/200\n",
            "110/110 [==============================] - 0s 2ms/step - loss: 0.0413\n",
            "Epoch 18/200\n",
            "110/110 [==============================] - 0s 2ms/step - loss: 0.0373\n",
            "Epoch 19/200\n",
            "110/110 [==============================] - 0s 2ms/step - loss: 0.0331\n",
            "Epoch 20/200\n",
            "110/110 [==============================] - 0s 2ms/step - loss: 0.0292\n",
            "Epoch 21/200\n",
            "110/110 [==============================] - 0s 2ms/step - loss: 0.0254\n",
            "Epoch 22/200\n",
            "110/110 [==============================] - 0s 2ms/step - loss: 0.0217\n",
            "Epoch 23/200\n",
            "110/110 [==============================] - 0s 2ms/step - loss: 0.0180\n",
            "Epoch 24/200\n",
            "110/110 [==============================] - 0s 2ms/step - loss: 0.0142\n",
            "Epoch 25/200\n",
            "110/110 [==============================] - 0s 2ms/step - loss: 0.0112\n",
            "Epoch 26/200\n",
            "110/110 [==============================] - 0s 2ms/step - loss: 0.0082\n",
            "Epoch 27/200\n",
            "110/110 [==============================] - 0s 2ms/step - loss: 0.0061\n",
            "Epoch 28/200\n",
            "110/110 [==============================] - 0s 2ms/step - loss: 0.0041\n",
            "Epoch 29/200\n",
            "110/110 [==============================] - 0s 2ms/step - loss: 0.0028\n",
            "Epoch 30/200\n",
            "110/110 [==============================] - 0s 1ms/step - loss: 0.0018\n",
            "Epoch 31/200\n",
            "110/110 [==============================] - 0s 2ms/step - loss: 0.0011\n",
            "Epoch 32/200\n",
            "110/110 [==============================] - 0s 2ms/step - loss: 6.7037e-04\n",
            "Epoch 33/200\n",
            "110/110 [==============================] - 0s 2ms/step - loss: 4.2440e-04\n",
            "Epoch 34/200\n",
            "110/110 [==============================] - 0s 2ms/step - loss: 2.7489e-04\n",
            "Epoch 35/200\n",
            "110/110 [==============================] - 0s 2ms/step - loss: 1.9895e-04\n",
            "Epoch 36/200\n",
            "110/110 [==============================] - 0s 2ms/step - loss: 1.7115e-04\n",
            "Epoch 37/200\n",
            "110/110 [==============================] - 0s 2ms/step - loss: 1.4673e-04\n",
            "Epoch 38/200\n",
            "110/110 [==============================] - 0s 2ms/step - loss: 1.3945e-04\n",
            "Epoch 39/200\n",
            "110/110 [==============================] - 0s 2ms/step - loss: 1.3225e-04\n",
            "Epoch 40/200\n",
            "110/110 [==============================] - 0s 2ms/step - loss: 1.4187e-04\n",
            "Epoch 41/200\n",
            "110/110 [==============================] - 0s 2ms/step - loss: 1.3925e-04\n",
            "Epoch 42/200\n",
            "110/110 [==============================] - 0s 2ms/step - loss: 1.2954e-04\n",
            "Epoch 43/200\n",
            "110/110 [==============================] - 0s 2ms/step - loss: 1.3057e-04\n",
            "Epoch 44/200\n",
            "110/110 [==============================] - 0s 2ms/step - loss: 1.2877e-04\n",
            "Epoch 45/200\n",
            "110/110 [==============================] - 0s 2ms/step - loss: 1.3384e-04\n",
            "Epoch 46/200\n",
            "110/110 [==============================] - 0s 2ms/step - loss: 1.3384e-04\n",
            "Epoch 47/200\n",
            "110/110 [==============================] - 0s 2ms/step - loss: 1.2952e-04\n",
            "Epoch 48/200\n",
            "110/110 [==============================] - 0s 2ms/step - loss: 1.2562e-04\n",
            "Epoch 49/200\n",
            "110/110 [==============================] - 0s 2ms/step - loss: 1.2501e-04\n",
            "Epoch 50/200\n",
            "110/110 [==============================] - 0s 2ms/step - loss: 1.2114e-04\n",
            "Epoch 51/200\n",
            "110/110 [==============================] - 0s 2ms/step - loss: 1.3116e-04\n",
            "Epoch 52/200\n",
            "110/110 [==============================] - 0s 2ms/step - loss: 1.2172e-04\n",
            "Epoch 53/200\n",
            "110/110 [==============================] - 0s 2ms/step - loss: 1.1717e-04\n",
            "Epoch 54/200\n",
            "110/110 [==============================] - 0s 2ms/step - loss: 1.1550e-04\n",
            "Epoch 55/200\n",
            "110/110 [==============================] - 0s 2ms/step - loss: 1.2779e-04\n",
            "Epoch 56/200\n",
            "110/110 [==============================] - 0s 2ms/step - loss: 1.1652e-04\n",
            "Epoch 57/200\n",
            "110/110 [==============================] - 0s 2ms/step - loss: 1.2078e-04\n",
            "Epoch 58/200\n",
            "110/110 [==============================] - 0s 2ms/step - loss: 1.0931e-04\n",
            "Epoch 59/200\n",
            "110/110 [==============================] - 0s 2ms/step - loss: 1.2679e-04\n",
            "Epoch 60/200\n",
            "110/110 [==============================] - 0s 2ms/step - loss: 1.2231e-04\n",
            "Epoch 61/200\n",
            "110/110 [==============================] - 0s 2ms/step - loss: 1.0956e-04\n",
            "Epoch 62/200\n",
            "110/110 [==============================] - 0s 1ms/step - loss: 1.0752e-04\n",
            "Epoch 63/200\n",
            "110/110 [==============================] - 0s 2ms/step - loss: 1.1730e-04\n",
            "Epoch 64/200\n",
            "110/110 [==============================] - 0s 2ms/step - loss: 1.1565e-04\n",
            "Epoch 65/200\n",
            "110/110 [==============================] - 0s 2ms/step - loss: 1.0172e-04\n",
            "Epoch 66/200\n",
            "110/110 [==============================] - 0s 2ms/step - loss: 1.0379e-04\n",
            "Epoch 67/200\n",
            "110/110 [==============================] - 0s 1ms/step - loss: 1.1184e-04\n",
            "Epoch 68/200\n",
            "110/110 [==============================] - 0s 2ms/step - loss: 1.1322e-04\n",
            "Epoch 69/200\n",
            "110/110 [==============================] - 0s 2ms/step - loss: 1.0462e-04\n",
            "Epoch 70/200\n",
            "110/110 [==============================] - 0s 2ms/step - loss: 1.0702e-04\n",
            "Epoch 71/200\n",
            "110/110 [==============================] - 0s 1ms/step - loss: 1.2151e-04\n",
            "Epoch 72/200\n",
            "110/110 [==============================] - 0s 2ms/step - loss: 1.2234e-04\n",
            "Epoch 73/200\n",
            "110/110 [==============================] - 0s 2ms/step - loss: 1.1009e-04\n",
            "Epoch 74/200\n",
            "110/110 [==============================] - 0s 2ms/step - loss: 1.2162e-04\n",
            "Epoch 75/200\n",
            "110/110 [==============================] - 0s 2ms/step - loss: 1.0494e-04\n",
            "Epoch 76/200\n",
            "110/110 [==============================] - 0s 2ms/step - loss: 1.0714e-04\n",
            "Epoch 77/200\n",
            "110/110 [==============================] - 0s 2ms/step - loss: 1.0965e-04\n",
            "Epoch 78/200\n",
            "110/110 [==============================] - 0s 2ms/step - loss: 1.1077e-04\n",
            "Epoch 79/200\n",
            "110/110 [==============================] - 0s 2ms/step - loss: 1.1776e-04\n",
            "Epoch 80/200\n",
            "110/110 [==============================] - 0s 2ms/step - loss: 1.0573e-04\n",
            "Epoch 81/200\n",
            "110/110 [==============================] - 0s 2ms/step - loss: 9.7199e-05\n",
            "Epoch 82/200\n",
            "110/110 [==============================] - 0s 2ms/step - loss: 1.1187e-04\n",
            "Epoch 83/200\n",
            "110/110 [==============================] - 0s 2ms/step - loss: 1.1417e-04\n",
            "Epoch 84/200\n",
            "110/110 [==============================] - 0s 2ms/step - loss: 1.0374e-04\n",
            "Epoch 85/200\n",
            "110/110 [==============================] - 0s 2ms/step - loss: 1.0873e-04\n",
            "Epoch 86/200\n",
            "110/110 [==============================] - 0s 2ms/step - loss: 1.0925e-04\n",
            "Epoch 87/200\n",
            "110/110 [==============================] - 0s 2ms/step - loss: 1.0482e-04\n",
            "Epoch 88/200\n",
            "110/110 [==============================] - 0s 2ms/step - loss: 1.1320e-04\n",
            "Epoch 89/200\n",
            "110/110 [==============================] - 0s 2ms/step - loss: 1.0814e-04\n",
            "Epoch 90/200\n",
            "110/110 [==============================] - 0s 2ms/step - loss: 1.0940e-04\n",
            "Epoch 91/200\n",
            "110/110 [==============================] - 0s 1ms/step - loss: 1.0623e-04\n",
            "Epoch 92/200\n",
            "110/110 [==============================] - 0s 2ms/step - loss: 1.0751e-04\n",
            "Epoch 93/200\n",
            "110/110 [==============================] - 0s 1ms/step - loss: 1.0338e-04\n",
            "Epoch 94/200\n",
            "110/110 [==============================] - 0s 2ms/step - loss: 1.0823e-04\n",
            "Epoch 95/200\n",
            "110/110 [==============================] - 0s 2ms/step - loss: 1.0338e-04\n",
            "Epoch 96/200\n",
            "110/110 [==============================] - 0s 2ms/step - loss: 1.0900e-04\n",
            "Epoch 97/200\n",
            "110/110 [==============================] - 0s 2ms/step - loss: 1.0685e-04\n",
            "Epoch 98/200\n",
            "110/110 [==============================] - 0s 2ms/step - loss: 1.0082e-04\n",
            "Epoch 99/200\n",
            "110/110 [==============================] - 0s 2ms/step - loss: 1.0652e-04\n",
            "Epoch 100/200\n",
            "110/110 [==============================] - 0s 2ms/step - loss: 1.0243e-04\n",
            "Epoch 101/200\n",
            "110/110 [==============================] - 0s 2ms/step - loss: 1.0694e-04\n",
            "Epoch 102/200\n",
            "110/110 [==============================] - 0s 2ms/step - loss: 1.0809e-04\n",
            "Epoch 103/200\n",
            "110/110 [==============================] - 0s 2ms/step - loss: 1.0606e-04\n",
            "Epoch 104/200\n",
            "110/110 [==============================] - 0s 2ms/step - loss: 1.0919e-04\n",
            "Epoch 105/200\n",
            "110/110 [==============================] - 0s 2ms/step - loss: 1.0988e-04\n",
            "Epoch 106/200\n",
            "110/110 [==============================] - 0s 1ms/step - loss: 9.8490e-05\n",
            "Epoch 107/200\n",
            "110/110 [==============================] - 0s 2ms/step - loss: 1.0010e-04\n",
            "Epoch 108/200\n",
            "110/110 [==============================] - 0s 2ms/step - loss: 1.1157e-04\n",
            "Epoch 109/200\n",
            "110/110 [==============================] - 0s 2ms/step - loss: 1.0800e-04\n",
            "Epoch 110/200\n",
            "110/110 [==============================] - 0s 2ms/step - loss: 1.1112e-04\n",
            "Epoch 111/200\n",
            "110/110 [==============================] - 0s 2ms/step - loss: 1.0684e-04\n",
            "Epoch 112/200\n",
            "110/110 [==============================] - 0s 2ms/step - loss: 1.0866e-04\n",
            "Epoch 113/200\n",
            "110/110 [==============================] - 0s 2ms/step - loss: 1.0864e-04\n",
            "Epoch 114/200\n",
            "110/110 [==============================] - 0s 2ms/step - loss: 1.0152e-04\n",
            "Epoch 115/200\n",
            "110/110 [==============================] - 0s 2ms/step - loss: 1.0188e-04\n",
            "Epoch 116/200\n",
            "110/110 [==============================] - 0s 2ms/step - loss: 1.1385e-04\n",
            "Epoch 117/200\n",
            "110/110 [==============================] - 0s 2ms/step - loss: 1.1209e-04\n",
            "Epoch 118/200\n",
            "110/110 [==============================] - 0s 2ms/step - loss: 1.0607e-04\n",
            "Epoch 119/200\n",
            "110/110 [==============================] - 0s 2ms/step - loss: 1.1256e-04\n",
            "Epoch 120/200\n",
            "110/110 [==============================] - 0s 2ms/step - loss: 1.0090e-04\n",
            "Epoch 121/200\n",
            "110/110 [==============================] - 0s 2ms/step - loss: 9.9028e-05\n",
            "Epoch 122/200\n",
            "110/110 [==============================] - 0s 2ms/step - loss: 1.0577e-04\n",
            "Epoch 123/200\n",
            "110/110 [==============================] - 0s 2ms/step - loss: 1.0635e-04\n",
            "Epoch 124/200\n",
            "110/110 [==============================] - 0s 2ms/step - loss: 9.7002e-05\n",
            "Epoch 125/200\n",
            "110/110 [==============================] - 0s 2ms/step - loss: 9.6015e-05\n",
            "Epoch 126/200\n",
            "110/110 [==============================] - 0s 2ms/step - loss: 9.9995e-05\n",
            "Epoch 127/200\n",
            "110/110 [==============================] - 0s 2ms/step - loss: 1.0458e-04\n",
            "Epoch 128/200\n",
            "110/110 [==============================] - 0s 2ms/step - loss: 1.0418e-04\n",
            "Epoch 129/200\n",
            "110/110 [==============================] - 0s 2ms/step - loss: 1.0561e-04\n",
            "Epoch 130/200\n",
            "110/110 [==============================] - 0s 2ms/step - loss: 9.3580e-05\n",
            "Epoch 131/200\n",
            "110/110 [==============================] - 0s 2ms/step - loss: 9.8641e-05\n",
            "Epoch 132/200\n",
            "110/110 [==============================] - 0s 2ms/step - loss: 1.0693e-04\n",
            "Epoch 133/200\n",
            "110/110 [==============================] - 0s 2ms/step - loss: 9.9307e-05\n",
            "Epoch 134/200\n",
            "110/110 [==============================] - 0s 1ms/step - loss: 9.1622e-05\n",
            "Epoch 135/200\n",
            "110/110 [==============================] - 0s 2ms/step - loss: 1.0878e-04\n",
            "Epoch 136/200\n",
            "110/110 [==============================] - 0s 2ms/step - loss: 9.8445e-05\n",
            "Epoch 137/200\n",
            "110/110 [==============================] - 0s 2ms/step - loss: 9.4992e-05\n",
            "Epoch 138/200\n",
            "110/110 [==============================] - 0s 2ms/step - loss: 1.0716e-04\n",
            "Epoch 139/200\n",
            "110/110 [==============================] - 0s 1ms/step - loss: 1.1060e-04\n",
            "Epoch 140/200\n",
            "110/110 [==============================] - 0s 2ms/step - loss: 1.0685e-04\n",
            "Epoch 141/200\n",
            "110/110 [==============================] - 0s 2ms/step - loss: 1.0567e-04\n",
            "Epoch 142/200\n",
            "110/110 [==============================] - 0s 2ms/step - loss: 1.0643e-04\n",
            "Epoch 143/200\n",
            "110/110 [==============================] - 0s 2ms/step - loss: 1.1352e-04\n",
            "Epoch 144/200\n",
            "110/110 [==============================] - 0s 2ms/step - loss: 9.6058e-05\n",
            "Epoch 145/200\n",
            "110/110 [==============================] - 0s 2ms/step - loss: 1.0865e-04\n",
            "Epoch 146/200\n",
            "110/110 [==============================] - 0s 2ms/step - loss: 1.0781e-04\n",
            "Epoch 147/200\n",
            "110/110 [==============================] - 0s 2ms/step - loss: 1.1186e-04\n",
            "Epoch 148/200\n",
            "110/110 [==============================] - 0s 2ms/step - loss: 9.5250e-05\n",
            "Epoch 149/200\n",
            "110/110 [==============================] - 0s 2ms/step - loss: 9.5231e-05\n",
            "Epoch 150/200\n",
            "110/110 [==============================] - 0s 1ms/step - loss: 1.0638e-04\n",
            "Epoch 151/200\n",
            "110/110 [==============================] - 0s 2ms/step - loss: 1.0133e-04\n",
            "Epoch 152/200\n",
            "110/110 [==============================] - 0s 2ms/step - loss: 9.8796e-05\n",
            "Epoch 153/200\n",
            "110/110 [==============================] - 0s 2ms/step - loss: 1.0036e-04\n",
            "Epoch 154/200\n",
            "110/110 [==============================] - 0s 2ms/step - loss: 9.9581e-05\n",
            "Epoch 155/200\n",
            "110/110 [==============================] - 0s 2ms/step - loss: 9.7547e-05\n",
            "Epoch 156/200\n",
            "110/110 [==============================] - 0s 2ms/step - loss: 1.0576e-04\n",
            "Epoch 157/200\n",
            "110/110 [==============================] - 0s 2ms/step - loss: 9.9278e-05\n",
            "Epoch 158/200\n",
            "110/110 [==============================] - 0s 2ms/step - loss: 1.0484e-04\n",
            "Epoch 159/200\n",
            "110/110 [==============================] - 0s 2ms/step - loss: 1.1098e-04\n",
            "Epoch 160/200\n",
            "110/110 [==============================] - 0s 2ms/step - loss: 1.0535e-04\n",
            "Epoch 161/200\n",
            "110/110 [==============================] - 0s 2ms/step - loss: 1.1021e-04\n",
            "Epoch 162/200\n",
            "110/110 [==============================] - 0s 2ms/step - loss: 9.6110e-05\n",
            "Epoch 163/200\n",
            "110/110 [==============================] - 0s 2ms/step - loss: 1.0349e-04\n",
            "Epoch 164/200\n",
            "110/110 [==============================] - 0s 2ms/step - loss: 9.1014e-05\n",
            "Epoch 165/200\n",
            "110/110 [==============================] - 0s 2ms/step - loss: 9.3733e-05\n",
            "Epoch 166/200\n",
            "110/110 [==============================] - 0s 2ms/step - loss: 1.0390e-04\n",
            "Epoch 167/200\n",
            "110/110 [==============================] - 0s 2ms/step - loss: 1.1086e-04\n",
            "Epoch 168/200\n",
            "110/110 [==============================] - 0s 2ms/step - loss: 1.0884e-04\n",
            "Epoch 169/200\n",
            "110/110 [==============================] - 0s 2ms/step - loss: 1.0066e-04\n",
            "Epoch 170/200\n",
            "110/110 [==============================] - 0s 2ms/step - loss: 9.6709e-05\n",
            "Epoch 171/200\n",
            "110/110 [==============================] - 0s 2ms/step - loss: 9.7969e-05\n",
            "Epoch 172/200\n",
            "110/110 [==============================] - 0s 2ms/step - loss: 1.0156e-04\n",
            "Epoch 173/200\n",
            "110/110 [==============================] - 0s 2ms/step - loss: 9.9088e-05\n",
            "Epoch 174/200\n",
            "110/110 [==============================] - 0s 2ms/step - loss: 9.8036e-05\n",
            "Epoch 175/200\n",
            "110/110 [==============================] - 0s 2ms/step - loss: 9.6928e-05\n",
            "Epoch 176/200\n",
            "110/110 [==============================] - 0s 2ms/step - loss: 1.0060e-04\n",
            "Epoch 177/200\n",
            "110/110 [==============================] - 0s 2ms/step - loss: 9.3790e-05\n",
            "Epoch 178/200\n",
            "110/110 [==============================] - 0s 2ms/step - loss: 9.7328e-05\n",
            "Epoch 179/200\n",
            "110/110 [==============================] - 0s 2ms/step - loss: 1.0250e-04\n",
            "Epoch 180/200\n",
            "110/110 [==============================] - 0s 2ms/step - loss: 1.0081e-04\n",
            "Epoch 181/200\n",
            "110/110 [==============================] - 0s 2ms/step - loss: 9.6992e-05\n",
            "Epoch 182/200\n",
            "110/110 [==============================] - 0s 2ms/step - loss: 9.2659e-05\n",
            "Epoch 183/200\n",
            "110/110 [==============================] - 0s 2ms/step - loss: 1.0052e-04\n",
            "Epoch 184/200\n",
            "110/110 [==============================] - 0s 2ms/step - loss: 1.0011e-04\n",
            "Epoch 185/200\n",
            "110/110 [==============================] - 0s 2ms/step - loss: 1.0461e-04\n",
            "Epoch 186/200\n",
            "110/110 [==============================] - 0s 2ms/step - loss: 1.0015e-04\n",
            "Epoch 187/200\n",
            "110/110 [==============================] - 0s 2ms/step - loss: 9.8984e-05\n",
            "Epoch 188/200\n",
            "110/110 [==============================] - 0s 2ms/step - loss: 1.0060e-04\n",
            "Epoch 189/200\n",
            "110/110 [==============================] - 0s 2ms/step - loss: 1.0692e-04\n",
            "Epoch 190/200\n",
            "110/110 [==============================] - 0s 2ms/step - loss: 1.0269e-04\n",
            "Epoch 191/200\n",
            "110/110 [==============================] - 0s 2ms/step - loss: 1.0104e-04\n",
            "Epoch 192/200\n",
            "110/110 [==============================] - 0s 2ms/step - loss: 1.0120e-04\n",
            "Epoch 193/200\n",
            "110/110 [==============================] - 0s 2ms/step - loss: 1.0858e-04\n",
            "Epoch 194/200\n",
            "110/110 [==============================] - 0s 2ms/step - loss: 1.0111e-04\n",
            "Epoch 195/200\n",
            "110/110 [==============================] - 0s 2ms/step - loss: 1.0162e-04\n",
            "Epoch 196/200\n",
            "110/110 [==============================] - 0s 2ms/step - loss: 1.0609e-04\n",
            "Epoch 197/200\n",
            "110/110 [==============================] - 0s 2ms/step - loss: 1.0182e-04\n",
            "Epoch 198/200\n",
            "110/110 [==============================] - 0s 2ms/step - loss: 1.0480e-04\n",
            "Epoch 199/200\n",
            "110/110 [==============================] - 0s 2ms/step - loss: 9.2913e-05\n",
            "Epoch 200/200\n",
            "110/110 [==============================] - 0s 2ms/step - loss: 9.7405e-05\n"
          ],
          "name": "stdout"
        },
        {
          "output_type": "execute_result",
          "data": {
            "text/plain": [
              "<keras.callbacks.History at 0x7fed2b8314d0>"
            ]
          },
          "metadata": {
            "tags": []
          },
          "execution_count": 27
        }
      ]
    },
    {
      "cell_type": "code",
      "metadata": {
        "colab": {
          "base_uri": "https://localhost:8080/",
          "height": 106
        },
        "id": "fZLcoamSs6KA",
        "outputId": "aa9ee1a2-3278-49e0-d4b3-7d079a363ed6"
      },
      "source": [
        "real_high_price = test_data.iloc[:,2:3].reset_index()\n",
        "real_high_price.drop(\"index\",axis=1,inplace=True)\n",
        "real_high_price.head(2)"
      ],
      "execution_count": 28,
      "outputs": [
        {
          "output_type": "execute_result",
          "data": {
            "text/html": [
              "<div>\n",
              "<style scoped>\n",
              "    .dataframe tbody tr th:only-of-type {\n",
              "        vertical-align: middle;\n",
              "    }\n",
              "\n",
              "    .dataframe tbody tr th {\n",
              "        vertical-align: top;\n",
              "    }\n",
              "\n",
              "    .dataframe thead th {\n",
              "        text-align: right;\n",
              "    }\n",
              "</style>\n",
              "<table border=\"1\" class=\"dataframe\">\n",
              "  <thead>\n",
              "    <tr style=\"text-align: right;\">\n",
              "      <th></th>\n",
              "      <th>High</th>\n",
              "    </tr>\n",
              "  </thead>\n",
              "  <tbody>\n",
              "    <tr>\n",
              "      <th>0</th>\n",
              "      <td>173.750000</td>\n",
              "    </tr>\n",
              "    <tr>\n",
              "      <th>1</th>\n",
              "      <td>174.440002</td>\n",
              "    </tr>\n",
              "  </tbody>\n",
              "</table>\n",
              "</div>"
            ],
            "text/plain": [
              "         High\n",
              "0  173.750000\n",
              "1  174.440002"
            ]
          },
          "metadata": {
            "tags": []
          },
          "execution_count": 28
        }
      ]
    },
    {
      "cell_type": "code",
      "metadata": {
        "id": "kAZHzZHPs6DF"
      },
      "source": [
        "inputs = real_high_price\n",
        "inputs = mm.transform(inputs)\n",
        "inputs = np.reshape(inputs, (real_high_price.shape[0], 1, 1))\n",
        "\n",
        "predicted_high_price = hmodel.predict(inputs)\n",
        "predicted_high_price = mm.inverse_transform(predicted_high_price)"
      ],
      "execution_count": 29,
      "outputs": []
    },
    {
      "cell_type": "code",
      "metadata": {
        "colab": {
          "base_uri": "https://localhost:8080/",
          "height": 313
        },
        "id": "LlNgRyGAs58L",
        "outputId": "a24bf601-6a80-48c6-ea4c-8c51ffbbbcd2"
      },
      "source": [
        "f = plt.figure()\n",
        "f.set_figwidth(30)\n",
        "f.set_figheight(7)\n",
        "plt.xticks(rotation=90)\n",
        "plt.plot(real_high_price, color = 'red', label = 'Real IBM High Price' )\n",
        "plt.plot(predicted_high_price, color = 'blue', label = 'Predicted IBM High Price' )\n",
        "plt.title('Stock Prediction')\n",
        "plt.xlabel('Time')\n",
        "plt.ylabel('IBM Stock Price')\n",
        "plt.legend()\n",
        "plt.show()"
      ],
      "execution_count": 30,
      "outputs": [
        {
          "output_type": "display_data",
          "data": {
            "image/png": "[encoded data removed]",
            "text/plain": [
              "<Figure size 2160x504 with 1 Axes>"
            ]
          },
          "metadata": {
            "tags": [],
            "needs_background": "light"
          }
        }
      ]
    },
    {
      "cell_type": "code",
      "metadata": {
        "colab": {
          "base_uri": "https://localhost:8080/"
        },
        "id": "WWlBZE8Ys5x-",
        "outputId": "72126984-0089-40bc-c9d7-df12c90513a1"
      },
      "source": [
        "mean_squared_error(real_high_price,predicted_high_price),np.sqrt(mean_absolute_error(real_high_price,predicted_high_price))"
      ],
      "execution_count": 31,
      "outputs": [
        {
          "output_type": "execute_result",
          "data": {
            "text/plain": [
              "(0.37858032427680227, 0.7292100000595418)"
            ]
          },
          "metadata": {
            "tags": []
          },
          "execution_count": 31
        }
      ]
    },
    {
      "cell_type": "code",
      "metadata": {
        "colab": {
          "base_uri": "https://localhost:8080/"
        },
        "id": "m0-V4RGxEf_3",
        "outputId": "4a40d28d-6dcf-461b-ff70-94ebbb519a98"
      },
      "source": [
        "hmodel.summary()"
      ],
      "execution_count": null,
      "outputs": [
        {
          "output_type": "stream",
          "text": [
            "Model: \"sequential\"\n",
            "_________________________________________________________________\n",
            "Layer (type)                 Output Shape              Param #   \n",
            "=================================================================\n",
            "lstm (LSTM)                  (None, 4)                 96        \n",
            "_________________________________________________________________\n",
            "dense (Dense)                (None, 1)                 5         \n",
            "=================================================================\n",
            "Total params: 101\n",
            "Trainable params: 101\n",
            "Non-trainable params: 0\n",
            "_________________________________________________________________\n"
          ],
          "name": "stdout"
        }
      ]
    },
    {
      "cell_type": "code",
      "metadata": {
        "id": "V2C_pcWKEoTu"
      },
      "source": [
        "hmodel.save(\"highIBM.h5\")"
      ],
      "execution_count": null,
      "outputs": []
    },
    {
      "cell_type": "markdown",
      "metadata": {
        "id": "2CamuWQnrtNi"
      },
      "source": [
        "###Low feature"
      ]
    },
    {
      "cell_type": "code",
      "metadata": {
        "colab": {
          "base_uri": "https://localhost:8080/"
        },
        "id": "y9Xqtg-7rWgA",
        "outputId": "89f9bcff-d885-41a5-b58c-8312a676c6a3"
      },
      "source": [
        "lmodel = Sequential()\n",
        "\n",
        "lmodel.add(LSTM(units = 4, activation = 'sigmoid', input_shape = (None, 1)))\n",
        "lmodel.add(Dense(units = 1))\n",
        "lmodel.compile(optimizer = 'adam', loss = 'mean_squared_error')\n",
        "\n",
        "\n",
        "lmodel.fit(xl_train, yl_train, batch_size = 32, epochs = 200)"
      ],
      "execution_count": 32,
      "outputs": [
        {
          "output_type": "stream",
          "text": [
            "Epoch 1/200\n",
            "110/110 [==============================] - 2s 2ms/step - loss: 0.2704\n",
            "Epoch 2/200\n",
            "110/110 [==============================] - 0s 2ms/step - loss: 0.1233\n",
            "Epoch 3/200\n",
            "110/110 [==============================] - 0s 2ms/step - loss: 0.0750\n",
            "Epoch 4/200\n",
            "110/110 [==============================] - 0s 2ms/step - loss: 0.0640\n",
            "Epoch 5/200\n",
            "110/110 [==============================] - 0s 2ms/step - loss: 0.0620\n",
            "Epoch 6/200\n",
            "110/110 [==============================] - 0s 2ms/step - loss: 0.0598\n",
            "Epoch 7/200\n",
            "110/110 [==============================] - 0s 2ms/step - loss: 0.0580\n",
            "Epoch 8/200\n",
            "110/110 [==============================] - 0s 2ms/step - loss: 0.0546\n",
            "Epoch 9/200\n",
            "110/110 [==============================] - 0s 2ms/step - loss: 0.0516\n",
            "Epoch 10/200\n",
            "110/110 [==============================] - 0s 2ms/step - loss: 0.0496\n",
            "Epoch 11/200\n",
            "110/110 [==============================] - 0s 2ms/step - loss: 0.0456\n",
            "Epoch 12/200\n",
            "110/110 [==============================] - 0s 2ms/step - loss: 0.0429\n",
            "Epoch 13/200\n",
            "110/110 [==============================] - 0s 2ms/step - loss: 0.0385\n",
            "Epoch 14/200\n",
            "110/110 [==============================] - 0s 2ms/step - loss: 0.0342\n",
            "Epoch 15/200\n",
            "110/110 [==============================] - 0s 2ms/step - loss: 0.0290\n",
            "Epoch 16/200\n",
            "110/110 [==============================] - 0s 2ms/step - loss: 0.0242\n",
            "Epoch 17/200\n",
            "110/110 [==============================] - 0s 2ms/step - loss: 0.0197\n",
            "Epoch 18/200\n",
            "110/110 [==============================] - 0s 2ms/step - loss: 0.0152\n",
            "Epoch 19/200\n",
            "110/110 [==============================] - 0s 2ms/step - loss: 0.0112\n",
            "Epoch 20/200\n",
            "110/110 [==============================] - 0s 2ms/step - loss: 0.0077\n",
            "Epoch 21/200\n",
            "110/110 [==============================] - 0s 2ms/step - loss: 0.0051\n",
            "Epoch 22/200\n",
            "110/110 [==============================] - 0s 2ms/step - loss: 0.0033\n",
            "Epoch 23/200\n",
            "110/110 [==============================] - 0s 2ms/step - loss: 0.0019\n",
            "Epoch 24/200\n",
            "110/110 [==============================] - 0s 2ms/step - loss: 0.0011\n",
            "Epoch 25/200\n",
            "110/110 [==============================] - 0s 2ms/step - loss: 6.3215e-04\n",
            "Epoch 26/200\n",
            "110/110 [==============================] - 0s 2ms/step - loss: 3.9448e-04\n",
            "Epoch 27/200\n",
            "110/110 [==============================] - 0s 2ms/step - loss: 2.6129e-04\n",
            "Epoch 28/200\n",
            "110/110 [==============================] - 0s 2ms/step - loss: 1.9712e-04\n",
            "Epoch 29/200\n",
            "110/110 [==============================] - 0s 2ms/step - loss: 1.7248e-04\n",
            "Epoch 30/200\n",
            "110/110 [==============================] - 0s 2ms/step - loss: 1.6054e-04\n",
            "Epoch 31/200\n",
            "110/110 [==============================] - 0s 2ms/step - loss: 1.5962e-04\n",
            "Epoch 32/200\n",
            "110/110 [==============================] - 0s 2ms/step - loss: 1.3586e-04\n",
            "Epoch 33/200\n",
            "110/110 [==============================] - 0s 2ms/step - loss: 1.4223e-04\n",
            "Epoch 34/200\n",
            "110/110 [==============================] - 0s 2ms/step - loss: 1.5383e-04\n",
            "Epoch 35/200\n",
            "110/110 [==============================] - 0s 2ms/step - loss: 1.4018e-04\n",
            "Epoch 36/200\n",
            "110/110 [==============================] - 0s 2ms/step - loss: 1.4328e-04\n",
            "Epoch 37/200\n",
            "110/110 [==============================] - 0s 2ms/step - loss: 1.4008e-04\n",
            "Epoch 38/200\n",
            "110/110 [==============================] - 0s 2ms/step - loss: 1.4764e-04\n",
            "Epoch 39/200\n",
            "110/110 [==============================] - 0s 2ms/step - loss: 1.3639e-04\n",
            "Epoch 40/200\n",
            "110/110 [==============================] - 0s 2ms/step - loss: 1.3371e-04\n",
            "Epoch 41/200\n",
            "110/110 [==============================] - 0s 2ms/step - loss: 1.3513e-04\n",
            "Epoch 42/200\n",
            "110/110 [==============================] - 0s 2ms/step - loss: 1.3844e-04\n",
            "Epoch 43/200\n",
            "110/110 [==============================] - 0s 2ms/step - loss: 1.4245e-04\n",
            "Epoch 44/200\n",
            "110/110 [==============================] - 0s 2ms/step - loss: 1.2958e-04\n",
            "Epoch 45/200\n",
            "110/110 [==============================] - 0s 2ms/step - loss: 1.2791e-04\n",
            "Epoch 46/200\n",
            "110/110 [==============================] - 0s 2ms/step - loss: 1.3174e-04\n",
            "Epoch 47/200\n",
            "110/110 [==============================] - 0s 2ms/step - loss: 1.2964e-04\n",
            "Epoch 48/200\n",
            "110/110 [==============================] - 0s 2ms/step - loss: 1.2307e-04\n",
            "Epoch 49/200\n",
            "110/110 [==============================] - 0s 2ms/step - loss: 1.2974e-04\n",
            "Epoch 50/200\n",
            "110/110 [==============================] - 0s 2ms/step - loss: 1.3069e-04\n",
            "Epoch 51/200\n",
            "110/110 [==============================] - 0s 2ms/step - loss: 1.2841e-04\n",
            "Epoch 52/200\n",
            "110/110 [==============================] - 0s 2ms/step - loss: 1.3881e-04\n",
            "Epoch 53/200\n",
            "110/110 [==============================] - 0s 2ms/step - loss: 1.2615e-04\n",
            "Epoch 54/200\n",
            "110/110 [==============================] - 0s 2ms/step - loss: 1.2111e-04\n",
            "Epoch 55/200\n",
            "110/110 [==============================] - 0s 2ms/step - loss: 1.3758e-04\n",
            "Epoch 56/200\n",
            "110/110 [==============================] - 0s 2ms/step - loss: 1.2527e-04\n",
            "Epoch 57/200\n",
            "110/110 [==============================] - 0s 2ms/step - loss: 1.2103e-04\n",
            "Epoch 58/200\n",
            "110/110 [==============================] - 0s 2ms/step - loss: 1.1703e-04\n",
            "Epoch 59/200\n",
            "110/110 [==============================] - 0s 2ms/step - loss: 1.2553e-04\n",
            "Epoch 60/200\n",
            "110/110 [==============================] - 0s 2ms/step - loss: 1.1410e-04\n",
            "Epoch 61/200\n",
            "110/110 [==============================] - 0s 2ms/step - loss: 1.1557e-04\n",
            "Epoch 62/200\n",
            "110/110 [==============================] - 0s 2ms/step - loss: 1.1635e-04\n",
            "Epoch 63/200\n",
            "110/110 [==============================] - 0s 2ms/step - loss: 1.1170e-04\n",
            "Epoch 64/200\n",
            "110/110 [==============================] - 0s 2ms/step - loss: 1.2357e-04\n",
            "Epoch 65/200\n",
            "110/110 [==============================] - 0s 2ms/step - loss: 1.1276e-04\n",
            "Epoch 66/200\n",
            "110/110 [==============================] - 0s 2ms/step - loss: 1.1351e-04\n",
            "Epoch 67/200\n",
            "110/110 [==============================] - 0s 2ms/step - loss: 1.1018e-04\n",
            "Epoch 68/200\n",
            "110/110 [==============================] - 0s 2ms/step - loss: 1.1693e-04\n",
            "Epoch 69/200\n",
            "110/110 [==============================] - 0s 2ms/step - loss: 1.2072e-04\n",
            "Epoch 70/200\n",
            "110/110 [==============================] - 0s 2ms/step - loss: 1.1194e-04\n",
            "Epoch 71/200\n",
            "110/110 [==============================] - 0s 2ms/step - loss: 1.1120e-04\n",
            "Epoch 72/200\n",
            "110/110 [==============================] - 0s 2ms/step - loss: 1.2169e-04\n",
            "Epoch 73/200\n",
            "110/110 [==============================] - 0s 2ms/step - loss: 1.1376e-04\n",
            "Epoch 74/200\n",
            "110/110 [==============================] - 0s 2ms/step - loss: 1.1754e-04\n",
            "Epoch 75/200\n",
            "110/110 [==============================] - 0s 2ms/step - loss: 1.1652e-04\n",
            "Epoch 76/200\n",
            "110/110 [==============================] - 0s 2ms/step - loss: 1.1131e-04\n",
            "Epoch 77/200\n",
            "110/110 [==============================] - 0s 2ms/step - loss: 1.2368e-04\n",
            "Epoch 78/200\n",
            "110/110 [==============================] - 0s 2ms/step - loss: 1.1767e-04\n",
            "Epoch 79/200\n",
            "110/110 [==============================] - 0s 2ms/step - loss: 1.1414e-04\n",
            "Epoch 80/200\n",
            "110/110 [==============================] - 0s 2ms/step - loss: 1.1393e-04\n",
            "Epoch 81/200\n",
            "110/110 [==============================] - 0s 2ms/step - loss: 1.1231e-04\n",
            "Epoch 82/200\n",
            "110/110 [==============================] - 0s 2ms/step - loss: 1.1971e-04\n",
            "Epoch 83/200\n",
            "110/110 [==============================] - 0s 2ms/step - loss: 1.3451e-04\n",
            "Epoch 84/200\n",
            "110/110 [==============================] - 0s 2ms/step - loss: 1.1892e-04\n",
            "Epoch 85/200\n",
            "110/110 [==============================] - 0s 2ms/step - loss: 1.2248e-04\n",
            "Epoch 86/200\n",
            "110/110 [==============================] - 0s 2ms/step - loss: 1.1479e-04\n",
            "Epoch 87/200\n",
            "110/110 [==============================] - 0s 2ms/step - loss: 1.1096e-04\n",
            "Epoch 88/200\n",
            "110/110 [==============================] - 0s 2ms/step - loss: 1.2579e-04\n",
            "Epoch 89/200\n",
            "110/110 [==============================] - 0s 2ms/step - loss: 1.0824e-04\n",
            "Epoch 90/200\n",
            "110/110 [==============================] - 0s 2ms/step - loss: 1.1445e-04\n",
            "Epoch 91/200\n",
            "110/110 [==============================] - 0s 2ms/step - loss: 1.1034e-04\n",
            "Epoch 92/200\n",
            "110/110 [==============================] - 0s 2ms/step - loss: 1.2223e-04\n",
            "Epoch 93/200\n",
            "110/110 [==============================] - 0s 2ms/step - loss: 1.1288e-04\n",
            "Epoch 94/200\n",
            "110/110 [==============================] - 0s 2ms/step - loss: 1.0555e-04\n",
            "Epoch 95/200\n",
            "110/110 [==============================] - 0s 2ms/step - loss: 1.1742e-04\n",
            "Epoch 96/200\n",
            "110/110 [==============================] - 0s 2ms/step - loss: 1.0587e-04\n",
            "Epoch 97/200\n",
            "110/110 [==============================] - 0s 2ms/step - loss: 1.0328e-04\n",
            "Epoch 98/200\n",
            "110/110 [==============================] - 0s 2ms/step - loss: 1.1276e-04\n",
            "Epoch 99/200\n",
            "110/110 [==============================] - 0s 2ms/step - loss: 1.1410e-04\n",
            "Epoch 100/200\n",
            "110/110 [==============================] - 0s 2ms/step - loss: 1.1187e-04\n",
            "Epoch 101/200\n",
            "110/110 [==============================] - 0s 2ms/step - loss: 1.1640e-04\n",
            "Epoch 102/200\n",
            "110/110 [==============================] - 0s 2ms/step - loss: 1.0960e-04\n",
            "Epoch 103/200\n",
            "110/110 [==============================] - 0s 2ms/step - loss: 1.0577e-04\n",
            "Epoch 104/200\n",
            "110/110 [==============================] - 0s 2ms/step - loss: 1.1581e-04\n",
            "Epoch 105/200\n",
            "110/110 [==============================] - 0s 2ms/step - loss: 1.0005e-04\n",
            "Epoch 106/200\n",
            "110/110 [==============================] - 0s 2ms/step - loss: 1.3067e-04\n",
            "Epoch 107/200\n",
            "110/110 [==============================] - 0s 2ms/step - loss: 1.1584e-04\n",
            "Epoch 108/200\n",
            "110/110 [==============================] - 0s 2ms/step - loss: 1.1982e-04\n",
            "Epoch 109/200\n",
            "110/110 [==============================] - 0s 2ms/step - loss: 1.1300e-04\n",
            "Epoch 110/200\n",
            "110/110 [==============================] - 0s 2ms/step - loss: 1.0982e-04\n",
            "Epoch 111/200\n",
            "110/110 [==============================] - 0s 2ms/step - loss: 1.1147e-04\n",
            "Epoch 112/200\n",
            "110/110 [==============================] - 0s 2ms/step - loss: 1.1222e-04\n",
            "Epoch 113/200\n",
            "110/110 [==============================] - 0s 2ms/step - loss: 1.1537e-04\n",
            "Epoch 114/200\n",
            "110/110 [==============================] - 0s 2ms/step - loss: 1.1429e-04\n",
            "Epoch 115/200\n",
            "110/110 [==============================] - 0s 2ms/step - loss: 1.0313e-04\n",
            "Epoch 116/200\n",
            "110/110 [==============================] - 0s 2ms/step - loss: 1.2416e-04\n",
            "Epoch 117/200\n",
            "110/110 [==============================] - 0s 2ms/step - loss: 1.0590e-04\n",
            "Epoch 118/200\n",
            "110/110 [==============================] - 0s 2ms/step - loss: 1.1862e-04\n",
            "Epoch 119/200\n",
            "110/110 [==============================] - 0s 2ms/step - loss: 1.1525e-04\n",
            "Epoch 120/200\n",
            "110/110 [==============================] - 0s 2ms/step - loss: 1.1463e-04\n",
            "Epoch 121/200\n",
            "110/110 [==============================] - 0s 2ms/step - loss: 1.1141e-04\n",
            "Epoch 122/200\n",
            "110/110 [==============================] - 0s 2ms/step - loss: 1.0803e-04\n",
            "Epoch 123/200\n",
            "110/110 [==============================] - 0s 2ms/step - loss: 1.1586e-04\n",
            "Epoch 124/200\n",
            "110/110 [==============================] - 0s 2ms/step - loss: 1.1432e-04\n",
            "Epoch 125/200\n",
            "110/110 [==============================] - 0s 2ms/step - loss: 1.0667e-04\n",
            "Epoch 126/200\n",
            "110/110 [==============================] - 0s 2ms/step - loss: 1.1246e-04\n",
            "Epoch 127/200\n",
            "110/110 [==============================] - 0s 2ms/step - loss: 1.0693e-04\n",
            "Epoch 128/200\n",
            "110/110 [==============================] - 0s 2ms/step - loss: 1.0939e-04\n",
            "Epoch 129/200\n",
            "110/110 [==============================] - 0s 2ms/step - loss: 1.0639e-04\n",
            "Epoch 130/200\n",
            "110/110 [==============================] - 0s 2ms/step - loss: 1.0832e-04\n",
            "Epoch 131/200\n",
            "110/110 [==============================] - 0s 2ms/step - loss: 1.1383e-04\n",
            "Epoch 132/200\n",
            "110/110 [==============================] - 0s 2ms/step - loss: 1.1775e-04\n",
            "Epoch 133/200\n",
            "110/110 [==============================] - 0s 2ms/step - loss: 1.1546e-04\n",
            "Epoch 134/200\n",
            "110/110 [==============================] - 0s 2ms/step - loss: 1.0962e-04\n",
            "Epoch 135/200\n",
            "110/110 [==============================] - 0s 2ms/step - loss: 1.1752e-04\n",
            "Epoch 136/200\n",
            "110/110 [==============================] - 0s 2ms/step - loss: 1.2181e-04\n",
            "Epoch 137/200\n",
            "110/110 [==============================] - 0s 2ms/step - loss: 1.1049e-04\n",
            "Epoch 138/200\n",
            "110/110 [==============================] - 0s 2ms/step - loss: 1.0864e-04\n",
            "Epoch 139/200\n",
            "110/110 [==============================] - 0s 2ms/step - loss: 1.0790e-04\n",
            "Epoch 140/200\n",
            "110/110 [==============================] - 0s 2ms/step - loss: 1.2169e-04\n",
            "Epoch 141/200\n",
            "110/110 [==============================] - 0s 2ms/step - loss: 1.0565e-04\n",
            "Epoch 142/200\n",
            "110/110 [==============================] - 0s 2ms/step - loss: 1.1700e-04\n",
            "Epoch 143/200\n",
            "110/110 [==============================] - 0s 2ms/step - loss: 1.0036e-04\n",
            "Epoch 144/200\n",
            "110/110 [==============================] - 0s 2ms/step - loss: 1.0662e-04\n",
            "Epoch 145/200\n",
            "110/110 [==============================] - 0s 2ms/step - loss: 1.0004e-04\n",
            "Epoch 146/200\n",
            "110/110 [==============================] - 0s 2ms/step - loss: 1.0068e-04\n",
            "Epoch 147/200\n",
            "110/110 [==============================] - 0s 2ms/step - loss: 1.1910e-04\n",
            "Epoch 148/200\n",
            "110/110 [==============================] - 0s 2ms/step - loss: 1.1027e-04\n",
            "Epoch 149/200\n",
            "110/110 [==============================] - 0s 2ms/step - loss: 1.0235e-04\n",
            "Epoch 150/200\n",
            "110/110 [==============================] - 0s 2ms/step - loss: 1.1152e-04\n",
            "Epoch 151/200\n",
            "110/110 [==============================] - 0s 2ms/step - loss: 1.1279e-04\n",
            "Epoch 152/200\n",
            "110/110 [==============================] - 0s 2ms/step - loss: 1.0273e-04\n",
            "Epoch 153/200\n",
            "110/110 [==============================] - 0s 2ms/step - loss: 1.0686e-04\n",
            "Epoch 154/200\n",
            "110/110 [==============================] - 0s 2ms/step - loss: 1.2040e-04\n",
            "Epoch 155/200\n",
            "110/110 [==============================] - 0s 2ms/step - loss: 1.1625e-04\n",
            "Epoch 156/200\n",
            "110/110 [==============================] - 0s 2ms/step - loss: 1.1286e-04\n",
            "Epoch 157/200\n",
            "110/110 [==============================] - 0s 2ms/step - loss: 1.1449e-04\n",
            "Epoch 158/200\n",
            "110/110 [==============================] - 0s 2ms/step - loss: 1.0189e-04\n",
            "Epoch 159/200\n",
            "110/110 [==============================] - 0s 2ms/step - loss: 1.2160e-04\n",
            "Epoch 160/200\n",
            "110/110 [==============================] - 0s 2ms/step - loss: 1.0916e-04\n",
            "Epoch 161/200\n",
            "110/110 [==============================] - 0s 2ms/step - loss: 1.1485e-04\n",
            "Epoch 162/200\n",
            "110/110 [==============================] - 0s 2ms/step - loss: 1.1303e-04\n",
            "Epoch 163/200\n",
            "110/110 [==============================] - 0s 2ms/step - loss: 1.1161e-04\n",
            "Epoch 164/200\n",
            "110/110 [==============================] - 0s 2ms/step - loss: 1.1748e-04\n",
            "Epoch 165/200\n",
            "110/110 [==============================] - 0s 2ms/step - loss: 1.1268e-04\n",
            "Epoch 166/200\n",
            "110/110 [==============================] - 0s 2ms/step - loss: 1.0430e-04\n",
            "Epoch 167/200\n",
            "110/110 [==============================] - 0s 2ms/step - loss: 1.0449e-04\n",
            "Epoch 168/200\n",
            "110/110 [==============================] - 0s 2ms/step - loss: 1.1297e-04\n",
            "Epoch 169/200\n",
            "110/110 [==============================] - 0s 2ms/step - loss: 1.1452e-04\n",
            "Epoch 170/200\n",
            "110/110 [==============================] - 0s 2ms/step - loss: 1.1195e-04\n",
            "Epoch 171/200\n",
            "110/110 [==============================] - 0s 2ms/step - loss: 1.0578e-04\n",
            "Epoch 172/200\n",
            "110/110 [==============================] - 0s 2ms/step - loss: 1.1025e-04\n",
            "Epoch 173/200\n",
            "110/110 [==============================] - 0s 2ms/step - loss: 1.1125e-04\n",
            "Epoch 174/200\n",
            "110/110 [==============================] - 0s 2ms/step - loss: 1.0484e-04\n",
            "Epoch 175/200\n",
            "110/110 [==============================] - 0s 2ms/step - loss: 1.1027e-04\n",
            "Epoch 176/200\n",
            "110/110 [==============================] - 0s 2ms/step - loss: 1.0621e-04\n",
            "Epoch 177/200\n",
            "110/110 [==============================] - 0s 2ms/step - loss: 1.1130e-04\n",
            "Epoch 178/200\n",
            "110/110 [==============================] - 0s 2ms/step - loss: 1.1734e-04\n",
            "Epoch 179/200\n",
            "110/110 [==============================] - 0s 2ms/step - loss: 1.1270e-04\n",
            "Epoch 180/200\n",
            "110/110 [==============================] - 0s 2ms/step - loss: 1.1889e-04\n",
            "Epoch 181/200\n",
            "110/110 [==============================] - 0s 2ms/step - loss: 1.3202e-04\n",
            "Epoch 182/200\n",
            "110/110 [==============================] - 0s 2ms/step - loss: 1.0856e-04\n",
            "Epoch 183/200\n",
            "110/110 [==============================] - 0s 2ms/step - loss: 1.2027e-04\n",
            "Epoch 184/200\n",
            "110/110 [==============================] - 0s 2ms/step - loss: 1.0995e-04\n",
            "Epoch 185/200\n",
            "110/110 [==============================] - 0s 2ms/step - loss: 1.1423e-04\n",
            "Epoch 186/200\n",
            "110/110 [==============================] - 0s 2ms/step - loss: 1.1689e-04\n",
            "Epoch 187/200\n",
            "110/110 [==============================] - 0s 2ms/step - loss: 1.1426e-04\n",
            "Epoch 188/200\n",
            "110/110 [==============================] - 0s 2ms/step - loss: 1.0872e-04\n",
            "Epoch 189/200\n",
            "110/110 [==============================] - 0s 2ms/step - loss: 1.0733e-04\n",
            "Epoch 190/200\n",
            "110/110 [==============================] - 0s 2ms/step - loss: 1.0519e-04\n",
            "Epoch 191/200\n",
            "110/110 [==============================] - 0s 2ms/step - loss: 1.0340e-04\n",
            "Epoch 192/200\n",
            "110/110 [==============================] - 0s 2ms/step - loss: 1.1190e-04\n",
            "Epoch 193/200\n",
            "110/110 [==============================] - 0s 2ms/step - loss: 1.0935e-04\n",
            "Epoch 194/200\n",
            "110/110 [==============================] - 0s 2ms/step - loss: 1.0932e-04\n",
            "Epoch 195/200\n",
            "110/110 [==============================] - 0s 2ms/step - loss: 1.1445e-04\n",
            "Epoch 196/200\n",
            "110/110 [==============================] - 0s 2ms/step - loss: 1.0940e-04\n",
            "Epoch 197/200\n",
            "110/110 [==============================] - 0s 2ms/step - loss: 1.3284e-04\n",
            "Epoch 198/200\n",
            "110/110 [==============================] - 0s 2ms/step - loss: 1.1388e-04\n",
            "Epoch 199/200\n",
            "110/110 [==============================] - 0s 2ms/step - loss: 1.0640e-04\n",
            "Epoch 200/200\n",
            "110/110 [==============================] - 0s 2ms/step - loss: 1.1035e-04\n"
          ],
          "name": "stdout"
        },
        {
          "output_type": "execute_result",
          "data": {
            "text/plain": [
              "<keras.callbacks.History at 0x7fed26a53590>"
            ]
          },
          "metadata": {
            "tags": []
          },
          "execution_count": 32
        }
      ]
    },
    {
      "cell_type": "code",
      "metadata": {
        "colab": {
          "base_uri": "https://localhost:8080/",
          "height": 106
        },
        "id": "ZEqBM7SOvHlj",
        "outputId": "71e46890-c711-4ebc-b2b9-4c264e58c07f"
      },
      "source": [
        "real_low_price = test_data.iloc[:,3:4].reset_index()\n",
        "real_low_price.drop(\"index\",axis=1,inplace=True)\n",
        "real_low_price.head(2)"
      ],
      "execution_count": 33,
      "outputs": [
        {
          "output_type": "execute_result",
          "data": {
            "text/html": [
              "<div>\n",
              "<style scoped>\n",
              "    .dataframe tbody tr th:only-of-type {\n",
              "        vertical-align: middle;\n",
              "    }\n",
              "\n",
              "    .dataframe tbody tr th {\n",
              "        vertical-align: top;\n",
              "    }\n",
              "\n",
              "    .dataframe thead th {\n",
              "        text-align: right;\n",
              "    }\n",
              "</style>\n",
              "<table border=\"1\" class=\"dataframe\">\n",
              "  <thead>\n",
              "    <tr style=\"text-align: right;\">\n",
              "      <th></th>\n",
              "      <th>Low</th>\n",
              "    </tr>\n",
              "  </thead>\n",
              "  <tbody>\n",
              "    <tr>\n",
              "      <th>0</th>\n",
              "      <td>171.929993</td>\n",
              "    </tr>\n",
              "    <tr>\n",
              "      <th>1</th>\n",
              "      <td>172.460007</td>\n",
              "    </tr>\n",
              "  </tbody>\n",
              "</table>\n",
              "</div>"
            ],
            "text/plain": [
              "          Low\n",
              "0  171.929993\n",
              "1  172.460007"
            ]
          },
          "metadata": {
            "tags": []
          },
          "execution_count": 33
        }
      ]
    },
    {
      "cell_type": "code",
      "metadata": {
        "id": "XRT0n1ftvHr2"
      },
      "source": [
        "inputs = real_low_price\n",
        "inputs = mm.transform(inputs)\n",
        "inputs = np.reshape(inputs, (real_low_price.shape[0], 1, 1))\n",
        "\n",
        "predicted_low_price = lmodel.predict(inputs)\n",
        "predicted_low_price = mm.inverse_transform(predicted_low_price)"
      ],
      "execution_count": 34,
      "outputs": []
    },
    {
      "cell_type": "code",
      "metadata": {
        "colab": {
          "base_uri": "https://localhost:8080/",
          "height": 313
        },
        "id": "lYncWt_SvHfM",
        "outputId": "5df12d11-f7f2-4d55-f0d5-7ed74f7c926c"
      },
      "source": [
        "f = plt.figure()\n",
        "f.set_figwidth(30)\n",
        "f.set_figheight(7)\n",
        "plt.xticks(rotation=90)\n",
        "plt.plot(real_low_price, color = 'red', label = 'Real IBM Low Price' )\n",
        "plt.plot(predicted_low_price, color = 'blue', label = 'Predicted IBM Low Price' )\n",
        "plt.title('Stock Prediction')\n",
        "plt.xlabel('Time')\n",
        "plt.ylabel('IBM Stock Price')\n",
        "plt.legend()\n",
        "plt.show()"
      ],
      "execution_count": 35,
      "outputs": [
        {
          "output_type": "display_data",
          "data": {
            "image/png": "[encoded data removed]",
            "text/plain": [
              "<Figure size 2160x504 with 1 Axes>"
            ]
          },
          "metadata": {
            "tags": [],
            "needs_background": "light"
          }
        }
      ]
    },
    {
      "cell_type": "code",
      "metadata": {
        "colab": {
          "base_uri": "https://localhost:8080/"
        },
        "id": "OkDnbhPHvHWd",
        "outputId": "0828bd8b-e6a2-49d3-83ae-9195f28ec31a"
      },
      "source": [
        "mean_squared_error(real_low_price,predicted_low_price),np.sqrt(mean_absolute_error(real_low_price,predicted_low_price))"
      ],
      "execution_count": 36,
      "outputs": [
        {
          "output_type": "execute_result",
          "data": {
            "text/plain": [
              "(0.12460939102247261, 0.5469279679609611)"
            ]
          },
          "metadata": {
            "tags": []
          },
          "execution_count": 36
        }
      ]
    },
    {
      "cell_type": "code",
      "metadata": {
        "colab": {
          "base_uri": "https://localhost:8080/"
        },
        "id": "ifOWxrsyFQQP",
        "outputId": "2e12e087-f387-46b8-d7dd-fd156d894b29"
      },
      "source": [
        "lmodel.summary()"
      ],
      "execution_count": null,
      "outputs": [
        {
          "output_type": "stream",
          "text": [
            "Model: \"sequential_1\"\n",
            "_________________________________________________________________\n",
            "Layer (type)                 Output Shape              Param #   \n",
            "=================================================================\n",
            "lstm_1 (LSTM)                (None, 4)                 96        \n",
            "_________________________________________________________________\n",
            "dense_1 (Dense)              (None, 1)                 5         \n",
            "=================================================================\n",
            "Total params: 101\n",
            "Trainable params: 101\n",
            "Non-trainable params: 0\n",
            "_________________________________________________________________\n"
          ],
          "name": "stdout"
        }
      ]
    },
    {
      "cell_type": "code",
      "metadata": {
        "id": "6nb9w-hvFUKl"
      },
      "source": [
        "lmodel.save(\"lowIBM.h5\")"
      ],
      "execution_count": null,
      "outputs": []
    },
    {
      "cell_type": "markdown",
      "metadata": {
        "id": "UaXcfO8Kry7_"
      },
      "source": [
        "###Close Feature"
      ]
    },
    {
      "cell_type": "code",
      "metadata": {
        "colab": {
          "base_uri": "https://localhost:8080/"
        },
        "id": "a4JRALbrrWZu",
        "outputId": "f6d9b891-5e38-483f-b672-fa3fa15281ad"
      },
      "source": [
        "cmodel = Sequential()\n",
        "\n",
        "cmodel.add(LSTM(units = 4, activation = 'sigmoid', input_shape = (None, 1)))\n",
        "cmodel.add(Dense(units = 1))\n",
        "cmodel.compile(optimizer = 'adam', loss = 'mean_squared_error')\n",
        "\n",
        "\n",
        "cmodel.fit(xc_train, yc_train, batch_size = 32, epochs = 200)"
      ],
      "execution_count": 37,
      "outputs": [
        {
          "output_type": "stream",
          "text": [
            "Epoch 1/200\n",
            "110/110 [==============================] - 2s 2ms/step - loss: 0.4071\n",
            "Epoch 2/200\n",
            "110/110 [==============================] - 0s 2ms/step - loss: 0.1730\n",
            "Epoch 3/200\n",
            "110/110 [==============================] - 0s 2ms/step - loss: 0.0816\n",
            "Epoch 4/200\n",
            "110/110 [==============================] - 0s 2ms/step - loss: 0.0618\n",
            "Epoch 5/200\n",
            "110/110 [==============================] - 0s 2ms/step - loss: 0.0534\n",
            "Epoch 6/200\n",
            "110/110 [==============================] - 0s 2ms/step - loss: 0.0502\n",
            "Epoch 7/200\n",
            "110/110 [==============================] - 0s 2ms/step - loss: 0.0485\n",
            "Epoch 8/200\n",
            "110/110 [==============================] - 0s 2ms/step - loss: 0.0453\n",
            "Epoch 9/200\n",
            "110/110 [==============================] - 0s 2ms/step - loss: 0.0425\n",
            "Epoch 10/200\n",
            "110/110 [==============================] - 0s 2ms/step - loss: 0.0391\n",
            "Epoch 11/200\n",
            "110/110 [==============================] - 0s 2ms/step - loss: 0.0368\n",
            "Epoch 12/200\n",
            "110/110 [==============================] - 0s 2ms/step - loss: 0.0335\n",
            "Epoch 13/200\n",
            "110/110 [==============================] - 0s 2ms/step - loss: 0.0301\n",
            "Epoch 14/200\n",
            "110/110 [==============================] - 0s 2ms/step - loss: 0.0271\n",
            "Epoch 15/200\n",
            "110/110 [==============================] - 0s 2ms/step - loss: 0.0234\n",
            "Epoch 16/200\n",
            "110/110 [==============================] - 0s 2ms/step - loss: 0.0203\n",
            "Epoch 17/200\n",
            "110/110 [==============================] - 0s 2ms/step - loss: 0.0169\n",
            "Epoch 18/200\n",
            "110/110 [==============================] - 0s 2ms/step - loss: 0.0145\n",
            "Epoch 19/200\n",
            "110/110 [==============================] - 0s 2ms/step - loss: 0.0115\n",
            "Epoch 20/200\n",
            "110/110 [==============================] - 0s 2ms/step - loss: 0.0091\n",
            "Epoch 21/200\n",
            "110/110 [==============================] - 0s 2ms/step - loss: 0.0072\n",
            "Epoch 22/200\n",
            "110/110 [==============================] - 0s 2ms/step - loss: 0.0055\n",
            "Epoch 23/200\n",
            "110/110 [==============================] - 0s 2ms/step - loss: 0.0039\n",
            "Epoch 24/200\n",
            "110/110 [==============================] - 0s 2ms/step - loss: 0.0027\n",
            "Epoch 25/200\n",
            "110/110 [==============================] - 0s 2ms/step - loss: 0.0019\n",
            "Epoch 26/200\n",
            "110/110 [==============================] - 0s 2ms/step - loss: 0.0012\n",
            "Epoch 27/200\n",
            "110/110 [==============================] - 0s 2ms/step - loss: 8.3749e-04\n",
            "Epoch 28/200\n",
            "110/110 [==============================] - 0s 2ms/step - loss: 5.7226e-04\n",
            "Epoch 29/200\n",
            "110/110 [==============================] - 0s 2ms/step - loss: 4.3052e-04\n",
            "Epoch 30/200\n",
            "110/110 [==============================] - 0s 2ms/step - loss: 3.3851e-04\n",
            "Epoch 31/200\n",
            "110/110 [==============================] - 0s 2ms/step - loss: 2.8635e-04\n",
            "Epoch 32/200\n",
            "110/110 [==============================] - 0s 2ms/step - loss: 2.4111e-04\n",
            "Epoch 33/200\n",
            "110/110 [==============================] - 0s 2ms/step - loss: 2.1488e-04\n",
            "Epoch 34/200\n",
            "110/110 [==============================] - 0s 2ms/step - loss: 2.1308e-04\n",
            "Epoch 35/200\n",
            "110/110 [==============================] - 0s 2ms/step - loss: 2.2369e-04\n",
            "Epoch 36/200\n",
            "110/110 [==============================] - 0s 2ms/step - loss: 2.0684e-04\n",
            "Epoch 37/200\n",
            "110/110 [==============================] - 0s 2ms/step - loss: 2.1009e-04\n",
            "Epoch 38/200\n",
            "110/110 [==============================] - 0s 2ms/step - loss: 2.0664e-04\n",
            "Epoch 39/200\n",
            "110/110 [==============================] - 0s 2ms/step - loss: 2.0587e-04\n",
            "Epoch 40/200\n",
            "110/110 [==============================] - 0s 2ms/step - loss: 1.9591e-04\n",
            "Epoch 41/200\n",
            "110/110 [==============================] - 0s 2ms/step - loss: 1.9606e-04\n",
            "Epoch 42/200\n",
            "110/110 [==============================] - 0s 2ms/step - loss: 1.9110e-04\n",
            "Epoch 43/200\n",
            "110/110 [==============================] - 0s 2ms/step - loss: 1.9778e-04\n",
            "Epoch 44/200\n",
            "110/110 [==============================] - 0s 2ms/step - loss: 1.9873e-04\n",
            "Epoch 45/200\n",
            "110/110 [==============================] - 0s 2ms/step - loss: 1.7630e-04\n",
            "Epoch 46/200\n",
            "110/110 [==============================] - 0s 2ms/step - loss: 1.8564e-04\n",
            "Epoch 47/200\n",
            "110/110 [==============================] - 0s 2ms/step - loss: 1.9265e-04\n",
            "Epoch 48/200\n",
            "110/110 [==============================] - 0s 2ms/step - loss: 1.9078e-04\n",
            "Epoch 49/200\n",
            "110/110 [==============================] - 0s 2ms/step - loss: 1.8295e-04\n",
            "Epoch 50/200\n",
            "110/110 [==============================] - 0s 2ms/step - loss: 1.7453e-04\n",
            "Epoch 51/200\n",
            "110/110 [==============================] - 0s 2ms/step - loss: 1.7538e-04\n",
            "Epoch 52/200\n",
            "110/110 [==============================] - 0s 2ms/step - loss: 1.7537e-04\n",
            "Epoch 53/200\n",
            "110/110 [==============================] - 0s 2ms/step - loss: 1.7209e-04\n",
            "Epoch 54/200\n",
            "110/110 [==============================] - 0s 2ms/step - loss: 1.7049e-04\n",
            "Epoch 55/200\n",
            "110/110 [==============================] - 0s 2ms/step - loss: 1.6899e-04\n",
            "Epoch 56/200\n",
            "110/110 [==============================] - 0s 2ms/step - loss: 1.6879e-04\n",
            "Epoch 57/200\n",
            "110/110 [==============================] - 0s 2ms/step - loss: 1.6440e-04\n",
            "Epoch 58/200\n",
            "110/110 [==============================] - 0s 2ms/step - loss: 1.6878e-04\n",
            "Epoch 59/200\n",
            "110/110 [==============================] - 0s 2ms/step - loss: 1.5639e-04\n",
            "Epoch 60/200\n",
            "110/110 [==============================] - 0s 2ms/step - loss: 1.6701e-04\n",
            "Epoch 61/200\n",
            "110/110 [==============================] - 0s 2ms/step - loss: 1.4819e-04\n",
            "Epoch 62/200\n",
            "110/110 [==============================] - 0s 2ms/step - loss: 1.4933e-04\n",
            "Epoch 63/200\n",
            "110/110 [==============================] - 0s 2ms/step - loss: 1.4609e-04\n",
            "Epoch 64/200\n",
            "110/110 [==============================] - 0s 2ms/step - loss: 1.5619e-04\n",
            "Epoch 65/200\n",
            "110/110 [==============================] - 0s 2ms/step - loss: 1.5842e-04\n",
            "Epoch 66/200\n",
            "110/110 [==============================] - 0s 2ms/step - loss: 1.5045e-04\n",
            "Epoch 67/200\n",
            "110/110 [==============================] - 0s 2ms/step - loss: 1.3702e-04\n",
            "Epoch 68/200\n",
            "110/110 [==============================] - 0s 2ms/step - loss: 1.4016e-04\n",
            "Epoch 69/200\n",
            "110/110 [==============================] - 0s 2ms/step - loss: 1.5102e-04\n",
            "Epoch 70/200\n",
            "110/110 [==============================] - 0s 2ms/step - loss: 1.4208e-04\n",
            "Epoch 71/200\n",
            "110/110 [==============================] - 0s 2ms/step - loss: 1.4191e-04\n",
            "Epoch 72/200\n",
            "110/110 [==============================] - 0s 2ms/step - loss: 1.3658e-04\n",
            "Epoch 73/200\n",
            "110/110 [==============================] - 0s 2ms/step - loss: 1.4147e-04\n",
            "Epoch 74/200\n",
            "110/110 [==============================] - 0s 2ms/step - loss: 1.3090e-04\n",
            "Epoch 75/200\n",
            "110/110 [==============================] - 0s 2ms/step - loss: 1.2736e-04\n",
            "Epoch 76/200\n",
            "110/110 [==============================] - 0s 2ms/step - loss: 1.3102e-04\n",
            "Epoch 77/200\n",
            "110/110 [==============================] - 0s 2ms/step - loss: 1.2933e-04\n",
            "Epoch 78/200\n",
            "110/110 [==============================] - 0s 2ms/step - loss: 1.3986e-04\n",
            "Epoch 79/200\n",
            "110/110 [==============================] - 0s 2ms/step - loss: 1.2873e-04\n",
            "Epoch 80/200\n",
            "110/110 [==============================] - 0s 2ms/step - loss: 1.2690e-04\n",
            "Epoch 81/200\n",
            "110/110 [==============================] - 0s 2ms/step - loss: 1.3410e-04\n",
            "Epoch 82/200\n",
            "110/110 [==============================] - 0s 2ms/step - loss: 1.3072e-04\n",
            "Epoch 83/200\n",
            "110/110 [==============================] - 0s 2ms/step - loss: 1.2358e-04\n",
            "Epoch 84/200\n",
            "110/110 [==============================] - 0s 2ms/step - loss: 1.2162e-04\n",
            "Epoch 85/200\n",
            "110/110 [==============================] - 0s 2ms/step - loss: 1.2613e-04\n",
            "Epoch 86/200\n",
            "110/110 [==============================] - 0s 2ms/step - loss: 1.2934e-04\n",
            "Epoch 87/200\n",
            "110/110 [==============================] - 0s 2ms/step - loss: 1.1777e-04\n",
            "Epoch 88/200\n",
            "110/110 [==============================] - 0s 2ms/step - loss: 1.1561e-04\n",
            "Epoch 89/200\n",
            "110/110 [==============================] - 0s 2ms/step - loss: 1.2730e-04\n",
            "Epoch 90/200\n",
            "110/110 [==============================] - 0s 2ms/step - loss: 1.2202e-04\n",
            "Epoch 91/200\n",
            "110/110 [==============================] - 0s 2ms/step - loss: 1.3073e-04\n",
            "Epoch 92/200\n",
            "110/110 [==============================] - 0s 2ms/step - loss: 1.3920e-04\n",
            "Epoch 93/200\n",
            "110/110 [==============================] - 0s 2ms/step - loss: 1.2989e-04\n",
            "Epoch 94/200\n",
            "110/110 [==============================] - 0s 2ms/step - loss: 1.2358e-04\n",
            "Epoch 95/200\n",
            "110/110 [==============================] - 0s 2ms/step - loss: 1.2306e-04\n",
            "Epoch 96/200\n",
            "110/110 [==============================] - 0s 2ms/step - loss: 1.1489e-04\n",
            "Epoch 97/200\n",
            "110/110 [==============================] - 0s 2ms/step - loss: 1.3787e-04\n",
            "Epoch 98/200\n",
            "110/110 [==============================] - 0s 2ms/step - loss: 1.2733e-04\n",
            "Epoch 99/200\n",
            "110/110 [==============================] - 0s 2ms/step - loss: 1.2102e-04\n",
            "Epoch 100/200\n",
            "110/110 [==============================] - 0s 2ms/step - loss: 1.2316e-04\n",
            "Epoch 101/200\n",
            "110/110 [==============================] - 0s 2ms/step - loss: 1.2428e-04\n",
            "Epoch 102/200\n",
            "110/110 [==============================] - 0s 2ms/step - loss: 1.2829e-04\n",
            "Epoch 103/200\n",
            "110/110 [==============================] - 0s 2ms/step - loss: 1.2621e-04\n",
            "Epoch 104/200\n",
            "110/110 [==============================] - 0s 2ms/step - loss: 1.3463e-04\n",
            "Epoch 105/200\n",
            "110/110 [==============================] - 0s 2ms/step - loss: 1.2709e-04\n",
            "Epoch 106/200\n",
            "110/110 [==============================] - 0s 2ms/step - loss: 1.1616e-04\n",
            "Epoch 107/200\n",
            "110/110 [==============================] - 0s 2ms/step - loss: 1.2370e-04\n",
            "Epoch 108/200\n",
            "110/110 [==============================] - 0s 2ms/step - loss: 1.2709e-04\n",
            "Epoch 109/200\n",
            "110/110 [==============================] - 0s 2ms/step - loss: 1.1346e-04\n",
            "Epoch 110/200\n",
            "110/110 [==============================] - 0s 2ms/step - loss: 1.2353e-04\n",
            "Epoch 111/200\n",
            "110/110 [==============================] - 0s 2ms/step - loss: 1.2451e-04\n",
            "Epoch 112/200\n",
            "110/110 [==============================] - 0s 2ms/step - loss: 1.2696e-04\n",
            "Epoch 113/200\n",
            "110/110 [==============================] - 0s 2ms/step - loss: 1.0903e-04\n",
            "Epoch 114/200\n",
            "110/110 [==============================] - 0s 2ms/step - loss: 1.2819e-04\n",
            "Epoch 115/200\n",
            "110/110 [==============================] - 0s 2ms/step - loss: 1.2348e-04\n",
            "Epoch 116/200\n",
            "110/110 [==============================] - 0s 2ms/step - loss: 1.1819e-04\n",
            "Epoch 117/200\n",
            "110/110 [==============================] - 0s 2ms/step - loss: 1.2102e-04\n",
            "Epoch 118/200\n",
            "110/110 [==============================] - 0s 2ms/step - loss: 1.2426e-04\n",
            "Epoch 119/200\n",
            "110/110 [==============================] - 0s 2ms/step - loss: 1.2421e-04\n",
            "Epoch 120/200\n",
            "110/110 [==============================] - 0s 2ms/step - loss: 1.1753e-04\n",
            "Epoch 121/200\n",
            "110/110 [==============================] - 0s 2ms/step - loss: 1.2108e-04\n",
            "Epoch 122/200\n",
            "110/110 [==============================] - 0s 2ms/step - loss: 1.2521e-04\n",
            "Epoch 123/200\n",
            "110/110 [==============================] - 0s 2ms/step - loss: 1.1654e-04\n",
            "Epoch 124/200\n",
            "110/110 [==============================] - 0s 2ms/step - loss: 1.1919e-04\n",
            "Epoch 125/200\n",
            "110/110 [==============================] - 0s 2ms/step - loss: 1.2432e-04\n",
            "Epoch 126/200\n",
            "110/110 [==============================] - 0s 2ms/step - loss: 1.1464e-04\n",
            "Epoch 127/200\n",
            "110/110 [==============================] - 0s 2ms/step - loss: 1.2244e-04\n",
            "Epoch 128/200\n",
            "110/110 [==============================] - 0s 2ms/step - loss: 1.1745e-04\n",
            "Epoch 129/200\n",
            "110/110 [==============================] - 0s 2ms/step - loss: 1.2725e-04\n",
            "Epoch 130/200\n",
            "110/110 [==============================] - 0s 2ms/step - loss: 1.1846e-04\n",
            "Epoch 131/200\n",
            "110/110 [==============================] - 0s 2ms/step - loss: 1.2088e-04\n",
            "Epoch 132/200\n",
            "110/110 [==============================] - 0s 2ms/step - loss: 1.2380e-04\n",
            "Epoch 133/200\n",
            "110/110 [==============================] - 0s 2ms/step - loss: 1.2309e-04\n",
            "Epoch 134/200\n",
            "110/110 [==============================] - 0s 2ms/step - loss: 1.1710e-04\n",
            "Epoch 135/200\n",
            "110/110 [==============================] - 0s 2ms/step - loss: 1.2296e-04\n",
            "Epoch 136/200\n",
            "110/110 [==============================] - 0s 2ms/step - loss: 1.1773e-04\n",
            "Epoch 137/200\n",
            "110/110 [==============================] - 0s 2ms/step - loss: 1.2371e-04\n",
            "Epoch 138/200\n",
            "110/110 [==============================] - 0s 2ms/step - loss: 1.1843e-04\n",
            "Epoch 139/200\n",
            "110/110 [==============================] - 0s 2ms/step - loss: 1.2008e-04\n",
            "Epoch 140/200\n",
            "110/110 [==============================] - 0s 2ms/step - loss: 1.2278e-04\n",
            "Epoch 141/200\n",
            "110/110 [==============================] - 0s 2ms/step - loss: 1.2896e-04\n",
            "Epoch 142/200\n",
            "110/110 [==============================] - 0s 2ms/step - loss: 1.1671e-04\n",
            "Epoch 143/200\n",
            "110/110 [==============================] - 0s 2ms/step - loss: 1.2791e-04\n",
            "Epoch 144/200\n",
            "110/110 [==============================] - 0s 2ms/step - loss: 1.1544e-04\n",
            "Epoch 145/200\n",
            "110/110 [==============================] - 0s 2ms/step - loss: 1.2045e-04\n",
            "Epoch 146/200\n",
            "110/110 [==============================] - 0s 2ms/step - loss: 1.1454e-04\n",
            "Epoch 147/200\n",
            "110/110 [==============================] - 0s 2ms/step - loss: 1.1631e-04\n",
            "Epoch 148/200\n",
            "110/110 [==============================] - 0s 2ms/step - loss: 1.2381e-04\n",
            "Epoch 149/200\n",
            "110/110 [==============================] - 0s 2ms/step - loss: 1.2180e-04\n",
            "Epoch 150/200\n",
            "110/110 [==============================] - 0s 2ms/step - loss: 1.2156e-04\n",
            "Epoch 151/200\n",
            "110/110 [==============================] - 0s 2ms/step - loss: 1.1997e-04\n",
            "Epoch 152/200\n",
            "110/110 [==============================] - 0s 2ms/step - loss: 1.2415e-04\n",
            "Epoch 153/200\n",
            "110/110 [==============================] - 0s 2ms/step - loss: 1.1394e-04\n",
            "Epoch 154/200\n",
            "110/110 [==============================] - 0s 2ms/step - loss: 1.2305e-04\n",
            "Epoch 155/200\n",
            "110/110 [==============================] - 0s 2ms/step - loss: 1.1943e-04\n",
            "Epoch 156/200\n",
            "110/110 [==============================] - 0s 2ms/step - loss: 1.1783e-04\n",
            "Epoch 157/200\n",
            "110/110 [==============================] - 0s 2ms/step - loss: 1.1706e-04\n",
            "Epoch 158/200\n",
            "110/110 [==============================] - 0s 2ms/step - loss: 1.2747e-04\n",
            "Epoch 159/200\n",
            "110/110 [==============================] - 0s 2ms/step - loss: 1.1791e-04\n",
            "Epoch 160/200\n",
            "110/110 [==============================] - 0s 2ms/step - loss: 1.3626e-04\n",
            "Epoch 161/200\n",
            "110/110 [==============================] - 0s 2ms/step - loss: 1.2514e-04\n",
            "Epoch 162/200\n",
            "110/110 [==============================] - 0s 2ms/step - loss: 1.2235e-04\n",
            "Epoch 163/200\n",
            "110/110 [==============================] - 0s 2ms/step - loss: 1.2598e-04\n",
            "Epoch 164/200\n",
            "110/110 [==============================] - 0s 2ms/step - loss: 1.1856e-04\n",
            "Epoch 165/200\n",
            "110/110 [==============================] - 0s 2ms/step - loss: 1.1387e-04\n",
            "Epoch 166/200\n",
            "110/110 [==============================] - 0s 2ms/step - loss: 1.2174e-04\n",
            "Epoch 167/200\n",
            "110/110 [==============================] - 0s 2ms/step - loss: 1.2617e-04\n",
            "Epoch 168/200\n",
            "110/110 [==============================] - 0s 2ms/step - loss: 1.2311e-04\n",
            "Epoch 169/200\n",
            "110/110 [==============================] - 0s 2ms/step - loss: 1.2509e-04\n",
            "Epoch 170/200\n",
            "110/110 [==============================] - 0s 2ms/step - loss: 1.1498e-04\n",
            "Epoch 171/200\n",
            "110/110 [==============================] - 0s 2ms/step - loss: 1.1441e-04\n",
            "Epoch 172/200\n",
            "110/110 [==============================] - 0s 2ms/step - loss: 1.1827e-04\n",
            "Epoch 173/200\n",
            "110/110 [==============================] - 0s 2ms/step - loss: 1.3592e-04\n",
            "Epoch 174/200\n",
            "110/110 [==============================] - 0s 2ms/step - loss: 1.2208e-04\n",
            "Epoch 175/200\n",
            "110/110 [==============================] - 0s 2ms/step - loss: 1.2456e-04\n",
            "Epoch 176/200\n",
            "110/110 [==============================] - 0s 2ms/step - loss: 1.2059e-04\n",
            "Epoch 177/200\n",
            "110/110 [==============================] - 0s 2ms/step - loss: 1.3450e-04\n",
            "Epoch 178/200\n",
            "110/110 [==============================] - 0s 2ms/step - loss: 1.1582e-04\n",
            "Epoch 179/200\n",
            "110/110 [==============================] - 0s 2ms/step - loss: 1.1636e-04\n",
            "Epoch 180/200\n",
            "110/110 [==============================] - 0s 2ms/step - loss: 1.2422e-04\n",
            "Epoch 181/200\n",
            "110/110 [==============================] - 0s 2ms/step - loss: 1.2851e-04\n",
            "Epoch 182/200\n",
            "110/110 [==============================] - 0s 2ms/step - loss: 1.2423e-04\n",
            "Epoch 183/200\n",
            "110/110 [==============================] - 0s 2ms/step - loss: 1.2837e-04\n",
            "Epoch 184/200\n",
            "110/110 [==============================] - 0s 2ms/step - loss: 1.3570e-04\n",
            "Epoch 185/200\n",
            "110/110 [==============================] - 0s 2ms/step - loss: 1.2415e-04\n",
            "Epoch 186/200\n",
            "110/110 [==============================] - 0s 2ms/step - loss: 1.2582e-04\n",
            "Epoch 187/200\n",
            "110/110 [==============================] - 0s 2ms/step - loss: 1.1161e-04\n",
            "Epoch 188/200\n",
            "110/110 [==============================] - 0s 2ms/step - loss: 1.1690e-04\n",
            "Epoch 189/200\n",
            "110/110 [==============================] - 0s 2ms/step - loss: 1.3142e-04\n",
            "Epoch 190/200\n",
            "110/110 [==============================] - 0s 2ms/step - loss: 1.1850e-04\n",
            "Epoch 191/200\n",
            "110/110 [==============================] - 0s 2ms/step - loss: 1.1154e-04\n",
            "Epoch 192/200\n",
            "110/110 [==============================] - 0s 2ms/step - loss: 1.2695e-04\n",
            "Epoch 193/200\n",
            "110/110 [==============================] - 0s 2ms/step - loss: 1.2623e-04\n",
            "Epoch 194/200\n",
            "110/110 [==============================] - 0s 2ms/step - loss: 1.1710e-04\n",
            "Epoch 195/200\n",
            "110/110 [==============================] - 0s 2ms/step - loss: 1.1691e-04\n",
            "Epoch 196/200\n",
            "110/110 [==============================] - 0s 2ms/step - loss: 1.2675e-04\n",
            "Epoch 197/200\n",
            "110/110 [==============================] - 0s 2ms/step - loss: 1.2243e-04\n",
            "Epoch 198/200\n",
            "110/110 [==============================] - 0s 2ms/step - loss: 1.2214e-04\n",
            "Epoch 199/200\n",
            "110/110 [==============================] - 0s 2ms/step - loss: 1.2750e-04\n",
            "Epoch 200/200\n",
            "110/110 [==============================] - 0s 2ms/step - loss: 1.1443e-04\n"
          ],
          "name": "stdout"
        },
        {
          "output_type": "execute_result",
          "data": {
            "text/plain": [
              "<keras.callbacks.History at 0x7fed259c3350>"
            ]
          },
          "metadata": {
            "tags": []
          },
          "execution_count": 37
        }
      ]
    },
    {
      "cell_type": "code",
      "metadata": {
        "colab": {
          "base_uri": "https://localhost:8080/",
          "height": 106
        },
        "id": "jlsAEXBmrWSB",
        "outputId": "571d2b2f-257c-467a-e93d-e6a206b84af0"
      },
      "source": [
        "real_close_price = test_data.iloc[:,4:5].reset_index()\n",
        "real_close_price.drop(\"index\",axis=1,inplace=True)\n",
        "real_close_price.head(2)"
      ],
      "execution_count": 38,
      "outputs": [
        {
          "output_type": "execute_result",
          "data": {
            "text/html": [
              "<div>\n",
              "<style scoped>\n",
              "    .dataframe tbody tr th:only-of-type {\n",
              "        vertical-align: middle;\n",
              "    }\n",
              "\n",
              "    .dataframe tbody tr th {\n",
              "        vertical-align: top;\n",
              "    }\n",
              "\n",
              "    .dataframe thead th {\n",
              "        text-align: right;\n",
              "    }\n",
              "</style>\n",
              "<table border=\"1\" class=\"dataframe\">\n",
              "  <thead>\n",
              "    <tr style=\"text-align: right;\">\n",
              "      <th></th>\n",
              "      <th>Close</th>\n",
              "    </tr>\n",
              "  </thead>\n",
              "  <tbody>\n",
              "    <tr>\n",
              "      <th>0</th>\n",
              "      <td>173.479996</td>\n",
              "    </tr>\n",
              "    <tr>\n",
              "      <th>1</th>\n",
              "      <td>173.759995</td>\n",
              "    </tr>\n",
              "  </tbody>\n",
              "</table>\n",
              "</div>"
            ],
            "text/plain": [
              "        Close\n",
              "0  173.479996\n",
              "1  173.759995"
            ]
          },
          "metadata": {
            "tags": []
          },
          "execution_count": 38
        }
      ]
    },
    {
      "cell_type": "code",
      "metadata": {
        "id": "5HmTmXMZwawD"
      },
      "source": [
        "inputs = real_close_price\n",
        "inputs = mm.transform(inputs)\n",
        "inputs = np.reshape(inputs, (real_close_price.shape[0], 1, 1))\n",
        "\n",
        "predicted_close_price = cmodel.predict(inputs)\n",
        "predicted_close_price = mm.inverse_transform(predicted_close_price)"
      ],
      "execution_count": 39,
      "outputs": []
    },
    {
      "cell_type": "code",
      "metadata": {
        "colab": {
          "base_uri": "https://localhost:8080/",
          "height": 313
        },
        "id": "auvZP6MIwaon",
        "outputId": "548d9a43-becc-4257-a949-fc1825719de7"
      },
      "source": [
        "f = plt.figure()\n",
        "f.set_figwidth(30)\n",
        "f.set_figheight(7)\n",
        "plt.xticks(rotation=90)\n",
        "plt.plot(real_close_price, color = 'red', label = 'Real IBM Close Price' )\n",
        "plt.plot(predicted_close_price, color = 'blue', label = 'Predicted IBM Close Price' )\n",
        "plt.title('Stock Prediction')\n",
        "plt.xlabel('Time')\n",
        "plt.ylabel('IBM Stock Price')\n",
        "plt.legend()\n",
        "plt.show()"
      ],
      "execution_count": 40,
      "outputs": [
        {
          "output_type": "display_data",
          "data": {
            "image/png": "[encoded data removed]",
            "text/plain": [
              "<Figure size 2160x504 with 1 Axes>"
            ]
          },
          "metadata": {
            "tags": [],
            "needs_background": "light"
          }
        }
      ]
    },
    {
      "cell_type": "code",
      "metadata": {
        "colab": {
          "base_uri": "https://localhost:8080/"
        },
        "id": "5gnH5rwuwafF",
        "outputId": "e0cb779e-bfef-45ac-8405-9d48151367ed"
      },
      "source": [
        "mean_squared_error(real_close_price,predicted_close_price),np.sqrt(mean_absolute_error(real_close_price,predicted_close_price))"
      ],
      "execution_count": 41,
      "outputs": [
        {
          "output_type": "execute_result",
          "data": {
            "text/plain": [
              "(0.09701237366278594, 0.49318733760039196)"
            ]
          },
          "metadata": {
            "tags": []
          },
          "execution_count": 41
        }
      ]
    },
    {
      "cell_type": "code",
      "metadata": {
        "colab": {
          "base_uri": "https://localhost:8080/"
        },
        "id": "GvZ0_goTFxA-",
        "outputId": "e6a2cd5f-2d89-4a6b-9433-ec0f0c4ea7c8"
      },
      "source": [
        "cmodel.summary()"
      ],
      "execution_count": null,
      "outputs": [
        {
          "output_type": "stream",
          "text": [
            "Model: \"sequential_2\"\n",
            "_________________________________________________________________\n",
            "Layer (type)                 Output Shape              Param #   \n",
            "=================================================================\n",
            "lstm_2 (LSTM)                (None, 4)                 96        \n",
            "_________________________________________________________________\n",
            "dense_2 (Dense)              (None, 1)                 5         \n",
            "=================================================================\n",
            "Total params: 101\n",
            "Trainable params: 101\n",
            "Non-trainable params: 0\n",
            "_________________________________________________________________\n"
          ],
          "name": "stdout"
        }
      ]
    },
    {
      "cell_type": "code",
      "metadata": {
        "id": "dp-ig9CKF1SV"
      },
      "source": [
        "cmodel.save(\"closeIBM.h5\")"
      ],
      "execution_count": null,
      "outputs": []
    },
    {
      "cell_type": "markdown",
      "metadata": {
        "id": "-r54l-cS0qcY"
      },
      "source": [
        "###Open feature"
      ]
    },
    {
      "cell_type": "code",
      "metadata": {
        "id": "OyztMdSh0un9",
        "colab": {
          "base_uri": "https://localhost:8080/"
        },
        "outputId": "cf269e27-24cd-4223-c3d9-66368cbe3b62"
      },
      "source": [
        "omodel = Sequential()\n",
        "\n",
        "omodel.add(LSTM(units = 4, activation = 'sigmoid', input_shape = (None, 1)))\n",
        "omodel.add(Dense(units = 1))\n",
        "omodel.compile(optimizer = 'adam', loss = 'mean_squared_error')\n",
        "\n",
        "omodel.fit(xo_train, yo_train, batch_size = 32, epochs = 200)"
      ],
      "execution_count": 42,
      "outputs": [
        {
          "output_type": "stream",
          "text": [
            "Epoch 1/200\n",
            "110/110 [==============================] - 2s 2ms/step - loss: 1.5168\n",
            "Epoch 2/200\n",
            "110/110 [==============================] - 0s 2ms/step - loss: 0.9569\n",
            "Epoch 3/200\n",
            "110/110 [==============================] - 0s 2ms/step - loss: 0.5949\n",
            "Epoch 4/200\n",
            "110/110 [==============================] - 0s 2ms/step - loss: 0.3797\n",
            "Epoch 5/200\n",
            "110/110 [==============================] - 0s 2ms/step - loss: 0.2575\n",
            "Epoch 6/200\n",
            "110/110 [==============================] - 0s 2ms/step - loss: 0.1743\n",
            "Epoch 7/200\n",
            "110/110 [==============================] - 0s 2ms/step - loss: 0.1244\n",
            "Epoch 8/200\n",
            "110/110 [==============================] - 0s 2ms/step - loss: 0.0912\n",
            "Epoch 9/200\n",
            "110/110 [==============================] - 0s 2ms/step - loss: 0.0821\n",
            "Epoch 10/200\n",
            "110/110 [==============================] - 0s 2ms/step - loss: 0.0705\n",
            "Epoch 11/200\n",
            "110/110 [==============================] - 0s 2ms/step - loss: 0.0662\n",
            "Epoch 12/200\n",
            "110/110 [==============================] - 0s 2ms/step - loss: 0.0655\n",
            "Epoch 13/200\n",
            "110/110 [==============================] - 0s 2ms/step - loss: 0.0624\n",
            "Epoch 14/200\n",
            "110/110 [==============================] - 0s 2ms/step - loss: 0.0635\n",
            "Epoch 15/200\n",
            "110/110 [==============================] - 0s 2ms/step - loss: 0.0616\n",
            "Epoch 16/200\n",
            "110/110 [==============================] - 0s 2ms/step - loss: 0.0608\n",
            "Epoch 17/200\n",
            "110/110 [==============================] - 0s 2ms/step - loss: 0.0613\n",
            "Epoch 18/200\n",
            "110/110 [==============================] - 0s 2ms/step - loss: 0.0602\n",
            "Epoch 19/200\n",
            "110/110 [==============================] - 0s 2ms/step - loss: 0.0600\n",
            "Epoch 20/200\n",
            "110/110 [==============================] - 0s 2ms/step - loss: 0.0585\n",
            "Epoch 21/200\n",
            "110/110 [==============================] - 0s 2ms/step - loss: 0.0579\n",
            "Epoch 22/200\n",
            "110/110 [==============================] - 0s 2ms/step - loss: 0.0575\n",
            "Epoch 23/200\n",
            "110/110 [==============================] - 0s 2ms/step - loss: 0.0551\n",
            "Epoch 24/200\n",
            "110/110 [==============================] - 0s 2ms/step - loss: 0.0549\n",
            "Epoch 25/200\n",
            "110/110 [==============================] - 0s 2ms/step - loss: 0.0542\n",
            "Epoch 26/200\n",
            "110/110 [==============================] - 0s 2ms/step - loss: 0.0512\n",
            "Epoch 27/200\n",
            "110/110 [==============================] - 0s 2ms/step - loss: 0.0503\n",
            "Epoch 28/200\n",
            "110/110 [==============================] - 0s 2ms/step - loss: 0.0483\n",
            "Epoch 29/200\n",
            "110/110 [==============================] - 0s 2ms/step - loss: 0.0456\n",
            "Epoch 30/200\n",
            "110/110 [==============================] - 0s 2ms/step - loss: 0.0446\n",
            "Epoch 31/200\n",
            "110/110 [==============================] - 0s 2ms/step - loss: 0.0422\n",
            "Epoch 32/200\n",
            "110/110 [==============================] - 0s 2ms/step - loss: 0.0417\n",
            "Epoch 33/200\n",
            "110/110 [==============================] - 0s 2ms/step - loss: 0.0392\n",
            "Epoch 34/200\n",
            "110/110 [==============================] - 0s 2ms/step - loss: 0.0367\n",
            "Epoch 35/200\n",
            "110/110 [==============================] - 0s 2ms/step - loss: 0.0347\n",
            "Epoch 36/200\n",
            "110/110 [==============================] - 0s 2ms/step - loss: 0.0314\n",
            "Epoch 37/200\n",
            "110/110 [==============================] - 0s 2ms/step - loss: 0.0289\n",
            "Epoch 38/200\n",
            "110/110 [==============================] - 0s 2ms/step - loss: 0.0265\n",
            "Epoch 39/200\n",
            "110/110 [==============================] - 0s 2ms/step - loss: 0.0237\n",
            "Epoch 40/200\n",
            "110/110 [==============================] - 0s 2ms/step - loss: 0.0213\n",
            "Epoch 41/200\n",
            "110/110 [==============================] - 0s 2ms/step - loss: 0.0186\n",
            "Epoch 42/200\n",
            "110/110 [==============================] - 0s 2ms/step - loss: 0.0159\n",
            "Epoch 43/200\n",
            "110/110 [==============================] - 0s 2ms/step - loss: 0.0135\n",
            "Epoch 44/200\n",
            "110/110 [==============================] - 0s 2ms/step - loss: 0.0112\n",
            "Epoch 45/200\n",
            "110/110 [==============================] - 0s 2ms/step - loss: 0.0089\n",
            "Epoch 46/200\n",
            "110/110 [==============================] - 0s 2ms/step - loss: 0.0072\n",
            "Epoch 47/200\n",
            "110/110 [==============================] - 0s 2ms/step - loss: 0.0055\n",
            "Epoch 48/200\n",
            "110/110 [==============================] - 0s 2ms/step - loss: 0.0046\n",
            "Epoch 49/200\n",
            "110/110 [==============================] - 0s 2ms/step - loss: 0.0033\n",
            "Epoch 50/200\n",
            "110/110 [==============================] - 0s 2ms/step - loss: 0.0027\n",
            "Epoch 51/200\n",
            "110/110 [==============================] - 0s 2ms/step - loss: 0.0021\n",
            "Epoch 52/200\n",
            "110/110 [==============================] - 0s 2ms/step - loss: 0.0017\n",
            "Epoch 53/200\n",
            "110/110 [==============================] - 0s 2ms/step - loss: 0.0015\n",
            "Epoch 54/200\n",
            "110/110 [==============================] - 0s 2ms/step - loss: 0.0013\n",
            "Epoch 55/200\n",
            "110/110 [==============================] - 0s 2ms/step - loss: 0.0012\n",
            "Epoch 56/200\n",
            "110/110 [==============================] - 0s 2ms/step - loss: 0.0011\n",
            "Epoch 57/200\n",
            "110/110 [==============================] - 0s 2ms/step - loss: 0.0011\n",
            "Epoch 58/200\n",
            "110/110 [==============================] - 0s 2ms/step - loss: 0.0010\n",
            "Epoch 59/200\n",
            "110/110 [==============================] - 0s 2ms/step - loss: 0.0010\n",
            "Epoch 60/200\n",
            "110/110 [==============================] - 0s 2ms/step - loss: 0.0010\n",
            "Epoch 61/200\n",
            "110/110 [==============================] - 0s 2ms/step - loss: 9.3490e-04\n",
            "Epoch 62/200\n",
            "110/110 [==============================] - 0s 2ms/step - loss: 9.1186e-04\n",
            "Epoch 63/200\n",
            "110/110 [==============================] - 0s 2ms/step - loss: 9.2740e-04\n",
            "Epoch 64/200\n",
            "110/110 [==============================] - 0s 2ms/step - loss: 8.7156e-04\n",
            "Epoch 65/200\n",
            "110/110 [==============================] - 0s 2ms/step - loss: 8.1563e-04\n",
            "Epoch 66/200\n",
            "110/110 [==============================] - 0s 2ms/step - loss: 8.4149e-04\n",
            "Epoch 67/200\n",
            "110/110 [==============================] - 0s 2ms/step - loss: 7.9744e-04\n",
            "Epoch 68/200\n",
            "110/110 [==============================] - 0s 1ms/step - loss: 8.1469e-04\n",
            "Epoch 69/200\n",
            "110/110 [==============================] - 0s 2ms/step - loss: 7.4888e-04\n",
            "Epoch 70/200\n",
            "110/110 [==============================] - 0s 2ms/step - loss: 7.2998e-04\n",
            "Epoch 71/200\n",
            "110/110 [==============================] - 0s 2ms/step - loss: 7.2549e-04\n",
            "Epoch 72/200\n",
            "110/110 [==============================] - 0s 2ms/step - loss: 6.8366e-04\n",
            "Epoch 73/200\n",
            "110/110 [==============================] - 0s 2ms/step - loss: 6.6462e-04\n",
            "Epoch 74/200\n",
            "110/110 [==============================] - 0s 2ms/step - loss: 6.5598e-04\n",
            "Epoch 75/200\n",
            "110/110 [==============================] - 0s 2ms/step - loss: 6.6414e-04\n",
            "Epoch 76/200\n",
            "110/110 [==============================] - 0s 2ms/step - loss: 6.0273e-04\n",
            "Epoch 77/200\n",
            "110/110 [==============================] - 0s 2ms/step - loss: 5.9660e-04\n",
            "Epoch 78/200\n",
            "110/110 [==============================] - 0s 2ms/step - loss: 5.9826e-04\n",
            "Epoch 79/200\n",
            "110/110 [==============================] - 0s 2ms/step - loss: 5.3971e-04\n",
            "Epoch 80/200\n",
            "110/110 [==============================] - 0s 2ms/step - loss: 5.4134e-04\n",
            "Epoch 81/200\n",
            "110/110 [==============================] - 0s 2ms/step - loss: 5.1133e-04\n",
            "Epoch 82/200\n",
            "110/110 [==============================] - 0s 2ms/step - loss: 4.9349e-04\n",
            "Epoch 83/200\n",
            "110/110 [==============================] - 0s 2ms/step - loss: 4.5688e-04\n",
            "Epoch 84/200\n",
            "110/110 [==============================] - 0s 2ms/step - loss: 4.3417e-04\n",
            "Epoch 85/200\n",
            "110/110 [==============================] - 0s 2ms/step - loss: 4.2845e-04\n",
            "Epoch 86/200\n",
            "110/110 [==============================] - 0s 2ms/step - loss: 4.3473e-04\n",
            "Epoch 87/200\n",
            "110/110 [==============================] - 0s 2ms/step - loss: 4.0637e-04\n",
            "Epoch 88/200\n",
            "110/110 [==============================] - 0s 2ms/step - loss: 3.9835e-04\n",
            "Epoch 89/200\n",
            "110/110 [==============================] - 0s 2ms/step - loss: 3.7653e-04\n",
            "Epoch 90/200\n",
            "110/110 [==============================] - 0s 2ms/step - loss: 3.5134e-04\n",
            "Epoch 91/200\n",
            "110/110 [==============================] - 0s 2ms/step - loss: 3.4238e-04\n",
            "Epoch 92/200\n",
            "110/110 [==============================] - 0s 2ms/step - loss: 3.3532e-04\n",
            "Epoch 93/200\n",
            "110/110 [==============================] - 0s 2ms/step - loss: 3.1782e-04\n",
            "Epoch 94/200\n",
            "110/110 [==============================] - 0s 2ms/step - loss: 3.1175e-04\n",
            "Epoch 95/200\n",
            "110/110 [==============================] - 0s 2ms/step - loss: 2.8986e-04\n",
            "Epoch 96/200\n",
            "110/110 [==============================] - 0s 2ms/step - loss: 2.7832e-04\n",
            "Epoch 97/200\n",
            "110/110 [==============================] - 0s 2ms/step - loss: 2.8054e-04\n",
            "Epoch 98/200\n",
            "110/110 [==============================] - 0s 2ms/step - loss: 2.4756e-04\n",
            "Epoch 99/200\n",
            "110/110 [==============================] - 0s 2ms/step - loss: 2.6850e-04\n",
            "Epoch 100/200\n",
            "110/110 [==============================] - 0s 2ms/step - loss: 2.3137e-04\n",
            "Epoch 101/200\n",
            "110/110 [==============================] - 0s 2ms/step - loss: 2.4017e-04\n",
            "Epoch 102/200\n",
            "110/110 [==============================] - 0s 2ms/step - loss: 2.1112e-04\n",
            "Epoch 103/200\n",
            "110/110 [==============================] - 0s 2ms/step - loss: 2.0917e-04\n",
            "Epoch 104/200\n",
            "110/110 [==============================] - 0s 2ms/step - loss: 2.0742e-04\n",
            "Epoch 105/200\n",
            "110/110 [==============================] - 0s 2ms/step - loss: 2.1972e-04\n",
            "Epoch 106/200\n",
            "110/110 [==============================] - 0s 2ms/step - loss: 2.0029e-04\n",
            "Epoch 107/200\n",
            "110/110 [==============================] - 0s 2ms/step - loss: 1.9523e-04\n",
            "Epoch 108/200\n",
            "110/110 [==============================] - 0s 2ms/step - loss: 1.9359e-04\n",
            "Epoch 109/200\n",
            "110/110 [==============================] - 0s 2ms/step - loss: 1.8977e-04\n",
            "Epoch 110/200\n",
            "110/110 [==============================] - 0s 2ms/step - loss: 1.8111e-04\n",
            "Epoch 111/200\n",
            "110/110 [==============================] - 0s 2ms/step - loss: 1.8282e-04\n",
            "Epoch 112/200\n",
            "110/110 [==============================] - 0s 2ms/step - loss: 1.7178e-04\n",
            "Epoch 113/200\n",
            "110/110 [==============================] - 0s 2ms/step - loss: 1.6606e-04\n",
            "Epoch 114/200\n",
            "110/110 [==============================] - 0s 2ms/step - loss: 1.5437e-04\n",
            "Epoch 115/200\n",
            "110/110 [==============================] - 0s 2ms/step - loss: 1.5335e-04\n",
            "Epoch 116/200\n",
            "110/110 [==============================] - 0s 2ms/step - loss: 1.5317e-04\n",
            "Epoch 117/200\n",
            "110/110 [==============================] - 0s 2ms/step - loss: 1.5979e-04\n",
            "Epoch 118/200\n",
            "110/110 [==============================] - 0s 2ms/step - loss: 1.5240e-04\n",
            "Epoch 119/200\n",
            "110/110 [==============================] - 0s 2ms/step - loss: 1.5067e-04\n",
            "Epoch 120/200\n",
            "110/110 [==============================] - 0s 2ms/step - loss: 1.5330e-04\n",
            "Epoch 121/200\n",
            "110/110 [==============================] - 0s 2ms/step - loss: 1.4184e-04\n",
            "Epoch 122/200\n",
            "110/110 [==============================] - 0s 2ms/step - loss: 1.3963e-04\n",
            "Epoch 123/200\n",
            "110/110 [==============================] - 0s 2ms/step - loss: 1.3561e-04\n",
            "Epoch 124/200\n",
            "110/110 [==============================] - 0s 2ms/step - loss: 1.4469e-04\n",
            "Epoch 125/200\n",
            "110/110 [==============================] - 0s 2ms/step - loss: 1.3620e-04\n",
            "Epoch 126/200\n",
            "110/110 [==============================] - 0s 2ms/step - loss: 1.3892e-04\n",
            "Epoch 127/200\n",
            "110/110 [==============================] - 0s 2ms/step - loss: 1.3968e-04\n",
            "Epoch 128/200\n",
            "110/110 [==============================] - 0s 2ms/step - loss: 1.3396e-04\n",
            "Epoch 129/200\n",
            "110/110 [==============================] - 0s 2ms/step - loss: 1.2857e-04\n",
            "Epoch 130/200\n",
            "110/110 [==============================] - 0s 2ms/step - loss: 1.2972e-04\n",
            "Epoch 131/200\n",
            "110/110 [==============================] - 0s 2ms/step - loss: 1.2976e-04\n",
            "Epoch 132/200\n",
            "110/110 [==============================] - 0s 2ms/step - loss: 1.3390e-04\n",
            "Epoch 133/200\n",
            "110/110 [==============================] - 0s 2ms/step - loss: 1.2963e-04\n",
            "Epoch 134/200\n",
            "110/110 [==============================] - 0s 2ms/step - loss: 1.2036e-04\n",
            "Epoch 135/200\n",
            "110/110 [==============================] - 0s 2ms/step - loss: 1.3979e-04\n",
            "Epoch 136/200\n",
            "110/110 [==============================] - 0s 2ms/step - loss: 1.4631e-04\n",
            "Epoch 137/200\n",
            "110/110 [==============================] - 0s 2ms/step - loss: 1.1930e-04\n",
            "Epoch 138/200\n",
            "110/110 [==============================] - 0s 2ms/step - loss: 1.2949e-04\n",
            "Epoch 139/200\n",
            "110/110 [==============================] - 0s 2ms/step - loss: 1.3077e-04\n",
            "Epoch 140/200\n",
            "110/110 [==============================] - 0s 2ms/step - loss: 1.2661e-04\n",
            "Epoch 141/200\n",
            "110/110 [==============================] - 0s 2ms/step - loss: 1.2535e-04\n",
            "Epoch 142/200\n",
            "110/110 [==============================] - 0s 2ms/step - loss: 1.3357e-04\n",
            "Epoch 143/200\n",
            "110/110 [==============================] - 0s 2ms/step - loss: 1.2164e-04\n",
            "Epoch 144/200\n",
            "110/110 [==============================] - 0s 2ms/step - loss: 1.1999e-04\n",
            "Epoch 145/200\n",
            "110/110 [==============================] - 0s 2ms/step - loss: 1.3242e-04\n",
            "Epoch 146/200\n",
            "110/110 [==============================] - 0s 2ms/step - loss: 1.2766e-04\n",
            "Epoch 147/200\n",
            "110/110 [==============================] - 0s 2ms/step - loss: 1.2337e-04\n",
            "Epoch 148/200\n",
            "110/110 [==============================] - 0s 2ms/step - loss: 1.2602e-04\n",
            "Epoch 149/200\n",
            "110/110 [==============================] - 0s 2ms/step - loss: 1.1402e-04\n",
            "Epoch 150/200\n",
            "110/110 [==============================] - 0s 2ms/step - loss: 1.2935e-04\n",
            "Epoch 151/200\n",
            "110/110 [==============================] - 0s 2ms/step - loss: 1.3332e-04\n",
            "Epoch 152/200\n",
            "110/110 [==============================] - 0s 2ms/step - loss: 1.2723e-04\n",
            "Epoch 153/200\n",
            "110/110 [==============================] - 0s 2ms/step - loss: 1.3083e-04\n",
            "Epoch 154/200\n",
            "110/110 [==============================] - 0s 2ms/step - loss: 1.2463e-04\n",
            "Epoch 155/200\n",
            "110/110 [==============================] - 0s 2ms/step - loss: 1.2552e-04\n",
            "Epoch 156/200\n",
            "110/110 [==============================] - 0s 2ms/step - loss: 1.2567e-04\n",
            "Epoch 157/200\n",
            "110/110 [==============================] - 0s 2ms/step - loss: 1.3372e-04\n",
            "Epoch 158/200\n",
            "110/110 [==============================] - 0s 2ms/step - loss: 1.2804e-04\n",
            "Epoch 159/200\n",
            "110/110 [==============================] - 0s 2ms/step - loss: 1.2559e-04\n",
            "Epoch 160/200\n",
            "110/110 [==============================] - 0s 2ms/step - loss: 1.3011e-04\n",
            "Epoch 161/200\n",
            "110/110 [==============================] - 0s 2ms/step - loss: 1.3212e-04\n",
            "Epoch 162/200\n",
            "110/110 [==============================] - 0s 2ms/step - loss: 1.2537e-04\n",
            "Epoch 163/200\n",
            "110/110 [==============================] - 0s 2ms/step - loss: 1.2697e-04\n",
            "Epoch 164/200\n",
            "110/110 [==============================] - 0s 2ms/step - loss: 1.2793e-04\n",
            "Epoch 165/200\n",
            "110/110 [==============================] - 0s 2ms/step - loss: 1.2243e-04\n",
            "Epoch 166/200\n",
            "110/110 [==============================] - 0s 2ms/step - loss: 1.2279e-04\n",
            "Epoch 167/200\n",
            "110/110 [==============================] - 0s 2ms/step - loss: 1.2570e-04\n",
            "Epoch 168/200\n",
            "110/110 [==============================] - 0s 2ms/step - loss: 1.1314e-04\n",
            "Epoch 169/200\n",
            "110/110 [==============================] - 0s 2ms/step - loss: 1.2315e-04\n",
            "Epoch 170/200\n",
            "110/110 [==============================] - 0s 2ms/step - loss: 1.2928e-04\n",
            "Epoch 171/200\n",
            "110/110 [==============================] - 0s 2ms/step - loss: 1.1679e-04\n",
            "Epoch 172/200\n",
            "110/110 [==============================] - 0s 2ms/step - loss: 1.2745e-04\n",
            "Epoch 173/200\n",
            "110/110 [==============================] - 0s 2ms/step - loss: 1.2989e-04\n",
            "Epoch 174/200\n",
            "110/110 [==============================] - 0s 2ms/step - loss: 1.2884e-04\n",
            "Epoch 175/200\n",
            "110/110 [==============================] - 0s 2ms/step - loss: 1.3531e-04\n",
            "Epoch 176/200\n",
            "110/110 [==============================] - 0s 2ms/step - loss: 1.2016e-04\n",
            "Epoch 177/200\n",
            "110/110 [==============================] - 0s 2ms/step - loss: 1.2722e-04\n",
            "Epoch 178/200\n",
            "110/110 [==============================] - 0s 2ms/step - loss: 1.1768e-04\n",
            "Epoch 179/200\n",
            "110/110 [==============================] - 0s 2ms/step - loss: 1.3601e-04\n",
            "Epoch 180/200\n",
            "110/110 [==============================] - 0s 2ms/step - loss: 1.2608e-04\n",
            "Epoch 181/200\n",
            "110/110 [==============================] - 0s 2ms/step - loss: 1.3049e-04\n",
            "Epoch 182/200\n",
            "110/110 [==============================] - 0s 2ms/step - loss: 1.1680e-04\n",
            "Epoch 183/200\n",
            "110/110 [==============================] - 0s 2ms/step - loss: 1.2867e-04\n",
            "Epoch 184/200\n",
            "110/110 [==============================] - 0s 2ms/step - loss: 1.2536e-04\n",
            "Epoch 185/200\n",
            "110/110 [==============================] - 0s 2ms/step - loss: 1.2641e-04\n",
            "Epoch 186/200\n",
            "110/110 [==============================] - 0s 2ms/step - loss: 1.2562e-04\n",
            "Epoch 187/200\n",
            "110/110 [==============================] - 0s 2ms/step - loss: 1.3041e-04\n",
            "Epoch 188/200\n",
            "110/110 [==============================] - 0s 2ms/step - loss: 1.3036e-04\n",
            "Epoch 189/200\n",
            "110/110 [==============================] - 0s 2ms/step - loss: 1.2949e-04\n",
            "Epoch 190/200\n",
            "110/110 [==============================] - 0s 2ms/step - loss: 1.2015e-04\n",
            "Epoch 191/200\n",
            "110/110 [==============================] - 0s 2ms/step - loss: 1.1837e-04\n",
            "Epoch 192/200\n",
            "110/110 [==============================] - 0s 2ms/step - loss: 1.1605e-04\n",
            "Epoch 193/200\n",
            "110/110 [==============================] - 0s 2ms/step - loss: 1.2460e-04\n",
            "Epoch 194/200\n",
            "110/110 [==============================] - 0s 2ms/step - loss: 1.3086e-04\n",
            "Epoch 195/200\n",
            "110/110 [==============================] - 0s 2ms/step - loss: 1.3631e-04\n",
            "Epoch 196/200\n",
            "110/110 [==============================] - 0s 2ms/step - loss: 1.1817e-04\n",
            "Epoch 197/200\n",
            "110/110 [==============================] - 0s 2ms/step - loss: 1.2410e-04\n",
            "Epoch 198/200\n",
            "110/110 [==============================] - 0s 2ms/step - loss: 1.2865e-04\n",
            "Epoch 199/200\n",
            "110/110 [==============================] - 0s 2ms/step - loss: 1.2124e-04\n",
            "Epoch 200/200\n",
            "110/110 [==============================] - 0s 2ms/step - loss: 1.1290e-04\n"
          ],
          "name": "stdout"
        },
        {
          "output_type": "execute_result",
          "data": {
            "text/plain": [
              "<keras.callbacks.History at 0x7fed265a82d0>"
            ]
          },
          "metadata": {
            "tags": []
          },
          "execution_count": 42
        }
      ]
    },
    {
      "cell_type": "code",
      "metadata": {
        "id": "g9WSHiZW1iDw",
        "colab": {
          "base_uri": "https://localhost:8080/",
          "height": 106
        },
        "outputId": "f752fb17-ee77-43a7-c9a1-2c13ab3d1c4e"
      },
      "source": [
        "real_open_price = test_data.iloc[:,1:2].reset_index()\n",
        "real_open_price.drop(\"index\",axis=1,inplace=True)\n",
        "real_open_price.head(2)"
      ],
      "execution_count": 43,
      "outputs": [
        {
          "output_type": "execute_result",
          "data": {
            "text/html": [
              "<div>\n",
              "<style scoped>\n",
              "    .dataframe tbody tr th:only-of-type {\n",
              "        vertical-align: middle;\n",
              "    }\n",
              "\n",
              "    .dataframe tbody tr th {\n",
              "        vertical-align: top;\n",
              "    }\n",
              "\n",
              "    .dataframe thead th {\n",
              "        text-align: right;\n",
              "    }\n",
              "</style>\n",
              "<table border=\"1\" class=\"dataframe\">\n",
              "  <thead>\n",
              "    <tr style=\"text-align: right;\">\n",
              "      <th></th>\n",
              "      <th>Open</th>\n",
              "    </tr>\n",
              "  </thead>\n",
              "  <tbody>\n",
              "    <tr>\n",
              "      <th>0</th>\n",
              "      <td>172.970001</td>\n",
              "    </tr>\n",
              "    <tr>\n",
              "      <th>1</th>\n",
              "      <td>173.330002</td>\n",
              "    </tr>\n",
              "  </tbody>\n",
              "</table>\n",
              "</div>"
            ],
            "text/plain": [
              "         Open\n",
              "0  172.970001\n",
              "1  173.330002"
            ]
          },
          "metadata": {
            "tags": []
          },
          "execution_count": 43
        }
      ]
    },
    {
      "cell_type": "code",
      "metadata": {
        "id": "o5az9NSV12d5"
      },
      "source": [
        "inputs = real_open_price\n",
        "inputs = mm.transform(inputs)\n",
        "inputs = np.reshape(inputs, (real_open_price.shape[0], 1, 1))\n",
        "\n",
        "predicted_open_price = omodel.predict(inputs)\n",
        "predicted_open_price = mm.inverse_transform(predicted_open_price)"
      ],
      "execution_count": 44,
      "outputs": []
    },
    {
      "cell_type": "code",
      "metadata": {
        "id": "OVgw_cng2Kwq",
        "colab": {
          "base_uri": "https://localhost:8080/",
          "height": 313
        },
        "outputId": "7aff9dc3-a73f-487a-edbd-406e3d7808f6"
      },
      "source": [
        "f = plt.figure()\n",
        "f.set_figwidth(30)\n",
        "f.set_figheight(7)\n",
        "plt.xticks(rotation=90)\n",
        "plt.plot(real_open_price, color = 'red', label = 'Real IBM Open Price' )\n",
        "plt.plot(predicted_open_price, color = 'blue', label = 'Predicted IBM Open Price' )\n",
        "plt.title('Stock Prediction')\n",
        "plt.xlabel('Time')\n",
        "plt.ylabel('IBM Stock Price')\n",
        "plt.legend()\n",
        "plt.show()"
      ],
      "execution_count": 45,
      "outputs": [
        {
          "output_type": "display_data",
          "data": {
            "image/png": "[encoded data removed]",
            "text/plain": [
              "<Figure size 2160x504 with 1 Axes>"
            ]
          },
          "metadata": {
            "tags": [],
            "needs_background": "light"
          }
        }
      ]
    },
    {
      "cell_type": "code",
      "metadata": {
        "id": "1FzoKcTk2Kpq",
        "colab": {
          "base_uri": "https://localhost:8080/"
        },
        "outputId": "821dbb1e-0eb4-4915-c553-8a12ae00daf0"
      },
      "source": [
        "mean_squared_error(real_open_price,predicted_open_price),np.sqrt(mean_absolute_error(real_open_price,predicted_open_price))"
      ],
      "execution_count": 46,
      "outputs": [
        {
          "output_type": "execute_result",
          "data": {
            "text/plain": [
              "(0.20416784829901755, 0.6194682480475622)"
            ]
          },
          "metadata": {
            "tags": []
          },
          "execution_count": 46
        }
      ]
    },
    {
      "cell_type": "code",
      "metadata": {
        "id": "xjKDJtSP2a1W",
        "colab": {
          "base_uri": "https://localhost:8080/"
        },
        "outputId": "eb7a2fc7-d195-45e8-bf84-99ce6db45fca"
      },
      "source": [
        "omodel.summary()"
      ],
      "execution_count": null,
      "outputs": [
        {
          "output_type": "stream",
          "text": [
            "Model: \"sequential\"\n",
            "_________________________________________________________________\n",
            "Layer (type)                 Output Shape              Param #   \n",
            "=================================================================\n",
            "lstm (LSTM)                  (None, 4)                 96        \n",
            "_________________________________________________________________\n",
            "dense (Dense)                (None, 1)                 5         \n",
            "=================================================================\n",
            "Total params: 101\n",
            "Trainable params: 101\n",
            "Non-trainable params: 0\n",
            "_________________________________________________________________\n"
          ],
          "name": "stdout"
        }
      ]
    },
    {
      "cell_type": "code",
      "metadata": {
        "id": "IwAAV_TG2ah3"
      },
      "source": [
        "omodel.save(\"openIBM.h5\")"
      ],
      "execution_count": null,
      "outputs": []
    }
  ]
}